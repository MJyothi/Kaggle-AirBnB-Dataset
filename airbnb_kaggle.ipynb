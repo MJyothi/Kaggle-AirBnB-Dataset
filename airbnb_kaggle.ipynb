{
  "cells": [
    {
      "cell_type": "code",
      "execution_count": null,
      "metadata": {
        "colab": {
          "base_uri": "https://localhost:8080/"
        },
        "id": "kFnDQcHE5Mk6",
        "outputId": "eee1b58d-2610-4068-b4d6-0b63b5fe24dc"
      },
      "outputs": [
        {
          "output_type": "stream",
          "name": "stdout",
          "text": [
            "Mounted at /content/drive\n"
          ]
        }
      ],
      "source": [
        "import os\n",
        "from google.colab import drive\n",
        "drive.mount('/content/drive')"
      ]
    },
    {
      "cell_type": "code",
      "execution_count": null,
      "metadata": {
        "id": "QixgzBPP5T16"
      },
      "outputs": [],
      "source": [
        "import pandas as pd\n",
        "from datetime import datetime\n",
        "import numpy as np\n",
        "\n",
        "from sklearn.preprocessing import LabelEncoder\n",
        "from sklearn.preprocessing import OneHotEncoder\n",
        "from sklearn.model_selection import StratifiedKFold\n",
        "\n",
        "import warnings\n",
        "warnings.filterwarnings(\"ignore\")\n"
      ]
    },
    {
      "cell_type": "code",
      "execution_count": null,
      "metadata": {
        "colab": {
          "base_uri": "https://localhost:8080/",
          "height": 224
        },
        "id": "xsV7kMR95bfR",
        "outputId": "fa30e26b-d4a8-410a-f5b7-650358abfc92"
      },
      "outputs": [
        {
          "output_type": "stream",
          "name": "stdout",
          "text": [
            "(10567737, 6)\n"
          ]
        },
        {
          "output_type": "execute_result",
          "data": {
            "text/html": [
              "<div>\n",
              "<style scoped>\n",
              "    .dataframe tbody tr th:only-of-type {\n",
              "        vertical-align: middle;\n",
              "    }\n",
              "\n",
              "    .dataframe tbody tr th {\n",
              "        vertical-align: top;\n",
              "    }\n",
              "\n",
              "    .dataframe thead th {\n",
              "        text-align: right;\n",
              "    }\n",
              "</style>\n",
              "<table border=\"1\" class=\"dataframe\">\n",
              "  <thead>\n",
              "    <tr style=\"text-align: right;\">\n",
              "      <th></th>\n",
              "      <th>user_id</th>\n",
              "      <th>action</th>\n",
              "      <th>action_type</th>\n",
              "      <th>action_detail</th>\n",
              "      <th>device_type</th>\n",
              "      <th>secs_elapsed</th>\n",
              "    </tr>\n",
              "  </thead>\n",
              "  <tbody>\n",
              "    <tr>\n",
              "      <th>0</th>\n",
              "      <td>d1mm9tcy42</td>\n",
              "      <td>lookup</td>\n",
              "      <td>NaN</td>\n",
              "      <td>NaN</td>\n",
              "      <td>Windows Desktop</td>\n",
              "      <td>319.0</td>\n",
              "    </tr>\n",
              "    <tr>\n",
              "      <th>1</th>\n",
              "      <td>d1mm9tcy42</td>\n",
              "      <td>search_results</td>\n",
              "      <td>click</td>\n",
              "      <td>view_search_results</td>\n",
              "      <td>Windows Desktop</td>\n",
              "      <td>67753.0</td>\n",
              "    </tr>\n",
              "    <tr>\n",
              "      <th>2</th>\n",
              "      <td>d1mm9tcy42</td>\n",
              "      <td>lookup</td>\n",
              "      <td>NaN</td>\n",
              "      <td>NaN</td>\n",
              "      <td>Windows Desktop</td>\n",
              "      <td>301.0</td>\n",
              "    </tr>\n",
              "    <tr>\n",
              "      <th>3</th>\n",
              "      <td>d1mm9tcy42</td>\n",
              "      <td>search_results</td>\n",
              "      <td>click</td>\n",
              "      <td>view_search_results</td>\n",
              "      <td>Windows Desktop</td>\n",
              "      <td>22141.0</td>\n",
              "    </tr>\n",
              "    <tr>\n",
              "      <th>4</th>\n",
              "      <td>d1mm9tcy42</td>\n",
              "      <td>lookup</td>\n",
              "      <td>NaN</td>\n",
              "      <td>NaN</td>\n",
              "      <td>Windows Desktop</td>\n",
              "      <td>435.0</td>\n",
              "    </tr>\n",
              "  </tbody>\n",
              "</table>\n",
              "</div>"
            ],
            "text/plain": [
              "      user_id          action  ...      device_type secs_elapsed\n",
              "0  d1mm9tcy42          lookup  ...  Windows Desktop        319.0\n",
              "1  d1mm9tcy42  search_results  ...  Windows Desktop      67753.0\n",
              "2  d1mm9tcy42          lookup  ...  Windows Desktop        301.0\n",
              "3  d1mm9tcy42  search_results  ...  Windows Desktop      22141.0\n",
              "4  d1mm9tcy42          lookup  ...  Windows Desktop        435.0\n",
              "\n",
              "[5 rows x 6 columns]"
            ]
          },
          "metadata": {},
          "execution_count": 3
        }
      ],
      "source": [
        "session=pd.read_csv(\"/content/drive/MyDrive/airbnb/sessions.csv\")\n",
        "print(session.shape)\n",
        "session.head()"
      ]
    },
    {
      "cell_type": "code",
      "execution_count": null,
      "metadata": {
        "colab": {
          "base_uri": "https://localhost:8080/",
          "height": 279
        },
        "id": "PFjxh5qa5ho6",
        "outputId": "355c48e8-6402-4a16-e680-f0ded180c9e3"
      },
      "outputs": [
        {
          "output_type": "stream",
          "name": "stdout",
          "text": [
            "(213451, 16)\n"
          ]
        },
        {
          "output_type": "execute_result",
          "data": {
            "text/html": [
              "<div>\n",
              "<style scoped>\n",
              "    .dataframe tbody tr th:only-of-type {\n",
              "        vertical-align: middle;\n",
              "    }\n",
              "\n",
              "    .dataframe tbody tr th {\n",
              "        vertical-align: top;\n",
              "    }\n",
              "\n",
              "    .dataframe thead th {\n",
              "        text-align: right;\n",
              "    }\n",
              "</style>\n",
              "<table border=\"1\" class=\"dataframe\">\n",
              "  <thead>\n",
              "    <tr style=\"text-align: right;\">\n",
              "      <th></th>\n",
              "      <th>id</th>\n",
              "      <th>date_account_created</th>\n",
              "      <th>timestamp_first_active</th>\n",
              "      <th>date_first_booking</th>\n",
              "      <th>gender</th>\n",
              "      <th>age</th>\n",
              "      <th>signup_method</th>\n",
              "      <th>signup_flow</th>\n",
              "      <th>language</th>\n",
              "      <th>affiliate_channel</th>\n",
              "      <th>affiliate_provider</th>\n",
              "      <th>first_affiliate_tracked</th>\n",
              "      <th>signup_app</th>\n",
              "      <th>first_device_type</th>\n",
              "      <th>first_browser</th>\n",
              "      <th>country_destination</th>\n",
              "    </tr>\n",
              "  </thead>\n",
              "  <tbody>\n",
              "    <tr>\n",
              "      <th>0</th>\n",
              "      <td>gxn3p5htnn</td>\n",
              "      <td>2010-06-28</td>\n",
              "      <td>20090319043255</td>\n",
              "      <td>NaN</td>\n",
              "      <td>-unknown-</td>\n",
              "      <td>NaN</td>\n",
              "      <td>facebook</td>\n",
              "      <td>0</td>\n",
              "      <td>en</td>\n",
              "      <td>direct</td>\n",
              "      <td>direct</td>\n",
              "      <td>untracked</td>\n",
              "      <td>Web</td>\n",
              "      <td>Mac Desktop</td>\n",
              "      <td>Chrome</td>\n",
              "      <td>NDF</td>\n",
              "    </tr>\n",
              "    <tr>\n",
              "      <th>1</th>\n",
              "      <td>820tgsjxq7</td>\n",
              "      <td>2011-05-25</td>\n",
              "      <td>20090523174809</td>\n",
              "      <td>NaN</td>\n",
              "      <td>MALE</td>\n",
              "      <td>38.0</td>\n",
              "      <td>facebook</td>\n",
              "      <td>0</td>\n",
              "      <td>en</td>\n",
              "      <td>seo</td>\n",
              "      <td>google</td>\n",
              "      <td>untracked</td>\n",
              "      <td>Web</td>\n",
              "      <td>Mac Desktop</td>\n",
              "      <td>Chrome</td>\n",
              "      <td>NDF</td>\n",
              "    </tr>\n",
              "    <tr>\n",
              "      <th>2</th>\n",
              "      <td>4ft3gnwmtx</td>\n",
              "      <td>2010-09-28</td>\n",
              "      <td>20090609231247</td>\n",
              "      <td>2010-08-02</td>\n",
              "      <td>FEMALE</td>\n",
              "      <td>56.0</td>\n",
              "      <td>basic</td>\n",
              "      <td>3</td>\n",
              "      <td>en</td>\n",
              "      <td>direct</td>\n",
              "      <td>direct</td>\n",
              "      <td>untracked</td>\n",
              "      <td>Web</td>\n",
              "      <td>Windows Desktop</td>\n",
              "      <td>IE</td>\n",
              "      <td>US</td>\n",
              "    </tr>\n",
              "    <tr>\n",
              "      <th>3</th>\n",
              "      <td>bjjt8pjhuk</td>\n",
              "      <td>2011-12-05</td>\n",
              "      <td>20091031060129</td>\n",
              "      <td>2012-09-08</td>\n",
              "      <td>FEMALE</td>\n",
              "      <td>42.0</td>\n",
              "      <td>facebook</td>\n",
              "      <td>0</td>\n",
              "      <td>en</td>\n",
              "      <td>direct</td>\n",
              "      <td>direct</td>\n",
              "      <td>untracked</td>\n",
              "      <td>Web</td>\n",
              "      <td>Mac Desktop</td>\n",
              "      <td>Firefox</td>\n",
              "      <td>other</td>\n",
              "    </tr>\n",
              "    <tr>\n",
              "      <th>4</th>\n",
              "      <td>87mebub9p4</td>\n",
              "      <td>2010-09-14</td>\n",
              "      <td>20091208061105</td>\n",
              "      <td>2010-02-18</td>\n",
              "      <td>-unknown-</td>\n",
              "      <td>41.0</td>\n",
              "      <td>basic</td>\n",
              "      <td>0</td>\n",
              "      <td>en</td>\n",
              "      <td>direct</td>\n",
              "      <td>direct</td>\n",
              "      <td>untracked</td>\n",
              "      <td>Web</td>\n",
              "      <td>Mac Desktop</td>\n",
              "      <td>Chrome</td>\n",
              "      <td>US</td>\n",
              "    </tr>\n",
              "  </tbody>\n",
              "</table>\n",
              "</div>"
            ],
            "text/plain": [
              "           id date_account_created  ...  first_browser country_destination\n",
              "0  gxn3p5htnn           2010-06-28  ...         Chrome                 NDF\n",
              "1  820tgsjxq7           2011-05-25  ...         Chrome                 NDF\n",
              "2  4ft3gnwmtx           2010-09-28  ...             IE                  US\n",
              "3  bjjt8pjhuk           2011-12-05  ...        Firefox               other\n",
              "4  87mebub9p4           2010-09-14  ...         Chrome                  US\n",
              "\n",
              "[5 rows x 16 columns]"
            ]
          },
          "metadata": {},
          "execution_count": 4
        }
      ],
      "source": [
        "train_user=pd.read_csv(\"/content/drive/MyDrive/airbnb/train_users_2.csv\")\n",
        "print(train_user.shape)\n",
        "train_user.head()"
      ]
    },
    {
      "cell_type": "code",
      "execution_count": null,
      "metadata": {
        "colab": {
          "base_uri": "https://localhost:8080/",
          "height": 313
        },
        "id": "lToy8E2R5ljq",
        "outputId": "0a37aca3-91f5-4a32-f7da-ee74888f0121"
      },
      "outputs": [
        {
          "output_type": "stream",
          "name": "stdout",
          "text": [
            "(62096, 15)\n"
          ]
        },
        {
          "output_type": "execute_result",
          "data": {
            "text/html": [
              "<div>\n",
              "<style scoped>\n",
              "    .dataframe tbody tr th:only-of-type {\n",
              "        vertical-align: middle;\n",
              "    }\n",
              "\n",
              "    .dataframe tbody tr th {\n",
              "        vertical-align: top;\n",
              "    }\n",
              "\n",
              "    .dataframe thead th {\n",
              "        text-align: right;\n",
              "    }\n",
              "</style>\n",
              "<table border=\"1\" class=\"dataframe\">\n",
              "  <thead>\n",
              "    <tr style=\"text-align: right;\">\n",
              "      <th></th>\n",
              "      <th>id</th>\n",
              "      <th>date_account_created</th>\n",
              "      <th>timestamp_first_active</th>\n",
              "      <th>date_first_booking</th>\n",
              "      <th>gender</th>\n",
              "      <th>age</th>\n",
              "      <th>signup_method</th>\n",
              "      <th>signup_flow</th>\n",
              "      <th>language</th>\n",
              "      <th>affiliate_channel</th>\n",
              "      <th>affiliate_provider</th>\n",
              "      <th>first_affiliate_tracked</th>\n",
              "      <th>signup_app</th>\n",
              "      <th>first_device_type</th>\n",
              "      <th>first_browser</th>\n",
              "    </tr>\n",
              "  </thead>\n",
              "  <tbody>\n",
              "    <tr>\n",
              "      <th>0</th>\n",
              "      <td>5uwns89zht</td>\n",
              "      <td>2014-07-01</td>\n",
              "      <td>20140701000006</td>\n",
              "      <td>NaN</td>\n",
              "      <td>FEMALE</td>\n",
              "      <td>35.0</td>\n",
              "      <td>facebook</td>\n",
              "      <td>0</td>\n",
              "      <td>en</td>\n",
              "      <td>direct</td>\n",
              "      <td>direct</td>\n",
              "      <td>untracked</td>\n",
              "      <td>Moweb</td>\n",
              "      <td>iPhone</td>\n",
              "      <td>Mobile Safari</td>\n",
              "    </tr>\n",
              "    <tr>\n",
              "      <th>1</th>\n",
              "      <td>jtl0dijy2j</td>\n",
              "      <td>2014-07-01</td>\n",
              "      <td>20140701000051</td>\n",
              "      <td>NaN</td>\n",
              "      <td>-unknown-</td>\n",
              "      <td>NaN</td>\n",
              "      <td>basic</td>\n",
              "      <td>0</td>\n",
              "      <td>en</td>\n",
              "      <td>direct</td>\n",
              "      <td>direct</td>\n",
              "      <td>untracked</td>\n",
              "      <td>Moweb</td>\n",
              "      <td>iPhone</td>\n",
              "      <td>Mobile Safari</td>\n",
              "    </tr>\n",
              "    <tr>\n",
              "      <th>2</th>\n",
              "      <td>xx0ulgorjt</td>\n",
              "      <td>2014-07-01</td>\n",
              "      <td>20140701000148</td>\n",
              "      <td>NaN</td>\n",
              "      <td>-unknown-</td>\n",
              "      <td>NaN</td>\n",
              "      <td>basic</td>\n",
              "      <td>0</td>\n",
              "      <td>en</td>\n",
              "      <td>direct</td>\n",
              "      <td>direct</td>\n",
              "      <td>linked</td>\n",
              "      <td>Web</td>\n",
              "      <td>Windows Desktop</td>\n",
              "      <td>Chrome</td>\n",
              "    </tr>\n",
              "    <tr>\n",
              "      <th>3</th>\n",
              "      <td>6c6puo6ix0</td>\n",
              "      <td>2014-07-01</td>\n",
              "      <td>20140701000215</td>\n",
              "      <td>NaN</td>\n",
              "      <td>-unknown-</td>\n",
              "      <td>NaN</td>\n",
              "      <td>basic</td>\n",
              "      <td>0</td>\n",
              "      <td>en</td>\n",
              "      <td>direct</td>\n",
              "      <td>direct</td>\n",
              "      <td>linked</td>\n",
              "      <td>Web</td>\n",
              "      <td>Windows Desktop</td>\n",
              "      <td>IE</td>\n",
              "    </tr>\n",
              "    <tr>\n",
              "      <th>4</th>\n",
              "      <td>czqhjk3yfe</td>\n",
              "      <td>2014-07-01</td>\n",
              "      <td>20140701000305</td>\n",
              "      <td>NaN</td>\n",
              "      <td>-unknown-</td>\n",
              "      <td>NaN</td>\n",
              "      <td>basic</td>\n",
              "      <td>0</td>\n",
              "      <td>en</td>\n",
              "      <td>direct</td>\n",
              "      <td>direct</td>\n",
              "      <td>untracked</td>\n",
              "      <td>Web</td>\n",
              "      <td>Mac Desktop</td>\n",
              "      <td>Safari</td>\n",
              "    </tr>\n",
              "  </tbody>\n",
              "</table>\n",
              "</div>"
            ],
            "text/plain": [
              "           id date_account_created  ...  first_device_type  first_browser\n",
              "0  5uwns89zht           2014-07-01  ...             iPhone  Mobile Safari\n",
              "1  jtl0dijy2j           2014-07-01  ...             iPhone  Mobile Safari\n",
              "2  xx0ulgorjt           2014-07-01  ...    Windows Desktop         Chrome\n",
              "3  6c6puo6ix0           2014-07-01  ...    Windows Desktop             IE\n",
              "4  czqhjk3yfe           2014-07-01  ...        Mac Desktop         Safari\n",
              "\n",
              "[5 rows x 15 columns]"
            ]
          },
          "metadata": {},
          "execution_count": 5
        }
      ],
      "source": [
        "test_user=pd.read_csv(\"//content/drive/MyDrive/airbnb/test_users.csv\")\n",
        "print(test_user.shape)\n",
        "test_user.head()"
      ]
    },
    {
      "cell_type": "code",
      "execution_count": null,
      "metadata": {
        "id": "ioZSmrZA5rIZ"
      },
      "outputs": [],
      "source": [
        "session.drop(['action_detail','device_type'],inplace=True,axis=1)\n",
        "session.dropna(subset=['user_id','action'],inplace=True)\n",
        "session.action_type=session.action_type.fillna('Other')\n",
        "session.secs_elapsed=session.secs_elapsed.fillna(0)"
      ]
    },
    {
      "cell_type": "code",
      "execution_count": null,
      "metadata": {
        "colab": {
          "base_uri": "https://localhost:8080/",
          "height": 206
        },
        "id": "3pVJhrCntgjd",
        "outputId": "46145b3b-1f71-44ff-dc25-8ce7fc1d1f7e"
      },
      "outputs": [
        {
          "output_type": "execute_result",
          "data": {
            "text/html": [
              "<div>\n",
              "<style scoped>\n",
              "    .dataframe tbody tr th:only-of-type {\n",
              "        vertical-align: middle;\n",
              "    }\n",
              "\n",
              "    .dataframe tbody tr th {\n",
              "        vertical-align: top;\n",
              "    }\n",
              "\n",
              "    .dataframe thead th {\n",
              "        text-align: right;\n",
              "    }\n",
              "</style>\n",
              "<table border=\"1\" class=\"dataframe\">\n",
              "  <thead>\n",
              "    <tr style=\"text-align: right;\">\n",
              "      <th></th>\n",
              "      <th>user_id</th>\n",
              "      <th>action</th>\n",
              "      <th>action_type</th>\n",
              "      <th>secs_elapsed</th>\n",
              "    </tr>\n",
              "  </thead>\n",
              "  <tbody>\n",
              "    <tr>\n",
              "      <th>0</th>\n",
              "      <td>d1mm9tcy42</td>\n",
              "      <td>lookup</td>\n",
              "      <td>Other</td>\n",
              "      <td>319.0</td>\n",
              "    </tr>\n",
              "    <tr>\n",
              "      <th>1</th>\n",
              "      <td>d1mm9tcy42</td>\n",
              "      <td>search_results</td>\n",
              "      <td>click</td>\n",
              "      <td>67753.0</td>\n",
              "    </tr>\n",
              "    <tr>\n",
              "      <th>2</th>\n",
              "      <td>d1mm9tcy42</td>\n",
              "      <td>lookup</td>\n",
              "      <td>Other</td>\n",
              "      <td>301.0</td>\n",
              "    </tr>\n",
              "    <tr>\n",
              "      <th>3</th>\n",
              "      <td>d1mm9tcy42</td>\n",
              "      <td>search_results</td>\n",
              "      <td>click</td>\n",
              "      <td>22141.0</td>\n",
              "    </tr>\n",
              "    <tr>\n",
              "      <th>4</th>\n",
              "      <td>d1mm9tcy42</td>\n",
              "      <td>lookup</td>\n",
              "      <td>Other</td>\n",
              "      <td>435.0</td>\n",
              "    </tr>\n",
              "  </tbody>\n",
              "</table>\n",
              "</div>"
            ],
            "text/plain": [
              "      user_id          action action_type  secs_elapsed\n",
              "0  d1mm9tcy42          lookup       Other         319.0\n",
              "1  d1mm9tcy42  search_results       click       67753.0\n",
              "2  d1mm9tcy42          lookup       Other         301.0\n",
              "3  d1mm9tcy42  search_results       click       22141.0\n",
              "4  d1mm9tcy42          lookup       Other         435.0"
            ]
          },
          "metadata": {},
          "execution_count": 7
        }
      ],
      "source": [
        "session.head(5)"
      ]
    },
    {
      "cell_type": "code",
      "execution_count": null,
      "metadata": {
        "colab": {
          "base_uri": "https://localhost:8080/",
          "height": 206
        },
        "id": "2XFAmQMHtvrp",
        "outputId": "69435f5e-1ec8-436e-bff1-640bfd83b03a"
      },
      "outputs": [
        {
          "output_type": "execute_result",
          "data": {
            "text/html": [
              "<div>\n",
              "<style scoped>\n",
              "    .dataframe tbody tr th:only-of-type {\n",
              "        vertical-align: middle;\n",
              "    }\n",
              "\n",
              "    .dataframe tbody tr th {\n",
              "        vertical-align: top;\n",
              "    }\n",
              "\n",
              "    .dataframe thead th {\n",
              "        text-align: right;\n",
              "    }\n",
              "</style>\n",
              "<table border=\"1\" class=\"dataframe\">\n",
              "  <thead>\n",
              "    <tr style=\"text-align: right;\">\n",
              "      <th></th>\n",
              "      <th>user_id</th>\n",
              "      <th>action</th>\n",
              "      <th>secs_elapsed</th>\n",
              "    </tr>\n",
              "  </thead>\n",
              "  <tbody>\n",
              "    <tr>\n",
              "      <th>0</th>\n",
              "      <td>00023iyk9l</td>\n",
              "      <td>39</td>\n",
              "      <td>738079.0</td>\n",
              "    </tr>\n",
              "    <tr>\n",
              "      <th>1</th>\n",
              "      <td>0010k6l0om</td>\n",
              "      <td>63</td>\n",
              "      <td>586543.0</td>\n",
              "    </tr>\n",
              "    <tr>\n",
              "      <th>2</th>\n",
              "      <td>001wyh0pz8</td>\n",
              "      <td>90</td>\n",
              "      <td>282965.0</td>\n",
              "    </tr>\n",
              "    <tr>\n",
              "      <th>3</th>\n",
              "      <td>0028jgx1x1</td>\n",
              "      <td>31</td>\n",
              "      <td>297010.0</td>\n",
              "    </tr>\n",
              "    <tr>\n",
              "      <th>4</th>\n",
              "      <td>002qnbzfs5</td>\n",
              "      <td>782</td>\n",
              "      <td>6463327.0</td>\n",
              "    </tr>\n",
              "  </tbody>\n",
              "</table>\n",
              "</div>"
            ],
            "text/plain": [
              "      user_id  action  secs_elapsed\n",
              "0  00023iyk9l      39      738079.0\n",
              "1  0010k6l0om      63      586543.0\n",
              "2  001wyh0pz8      90      282965.0\n",
              "3  0028jgx1x1      31      297010.0\n",
              "4  002qnbzfs5     782     6463327.0"
            ]
          },
          "metadata": {},
          "execution_count": 7
        }
      ],
      "source": [
        "df_sess = session.groupby(['user_id']).agg({'action':'count','secs_elapsed':'sum'}).reset_index()\n",
        "df_sess.head()"
      ]
    },
    {
      "cell_type": "code",
      "execution_count": null,
      "metadata": {
        "colab": {
          "base_uri": "https://localhost:8080/"
        },
        "id": "1JNEitKTwt38",
        "outputId": "cb3bb968-e48b-4a9a-81c5-dfc62afb4685"
      },
      "outputs": [
        {
          "output_type": "execute_result",
          "data": {
            "text/plain": [
              "Index(['user_id', 'action', 'secs_elapsed'], dtype='object')"
            ]
          },
          "metadata": {},
          "execution_count": 12
        }
      ],
      "source": [
        "df_sess.columns"
      ]
    },
    {
      "cell_type": "code",
      "execution_count": null,
      "metadata": {
        "colab": {
          "base_uri": "https://localhost:8080/"
        },
        "id": "hKTC2EkH6V9i",
        "outputId": "961a18ce-1033-48bc-9091-80d5af3e04e8"
      },
      "outputs": [
        {
          "output_type": "execute_result",
          "data": {
            "text/plain": [
              "(213451, 18)"
            ]
          },
          "metadata": {},
          "execution_count": 8
        }
      ],
      "source": [
        "train_user_df=train_user.merge(df_sess, left_on=['id'],\n",
        "                               right_on=['user_id'],how='left').drop(['user_id'],axis=1).reset_index(drop=True)\n",
        "train_user_df.shape"
      ]
    },
    {
      "cell_type": "code",
      "execution_count": null,
      "metadata": {
        "colab": {
          "base_uri": "https://localhost:8080/"
        },
        "id": "2mmYcW--6hEf",
        "outputId": "d50df2cf-fd23-4f02-c7a5-b004a06f48e7"
      },
      "outputs": [
        {
          "output_type": "execute_result",
          "data": {
            "text/plain": [
              "(62096, 17)"
            ]
          },
          "metadata": {},
          "execution_count": 9
        }
      ],
      "source": [
        "test_user_df=test_user.merge(df_sess,left_on=['id'],\n",
        "                               right_on=['user_id'],how='left').drop(['user_id'],axis=1).reset_index(drop=True)\n",
        "test_user_df.shape"
      ]
    },
    {
      "cell_type": "code",
      "execution_count": null,
      "metadata": {
        "colab": {
          "base_uri": "https://localhost:8080/",
          "height": 452
        },
        "id": "68v3OmTL6YvS",
        "outputId": "393c356c-7c5c-459a-90d2-e26606a61f9e"
      },
      "outputs": [
        {
          "output_type": "execute_result",
          "data": {
            "text/html": [
              "<div>\n",
              "<style scoped>\n",
              "    .dataframe tbody tr th:only-of-type {\n",
              "        vertical-align: middle;\n",
              "    }\n",
              "\n",
              "    .dataframe tbody tr th {\n",
              "        vertical-align: top;\n",
              "    }\n",
              "\n",
              "    .dataframe thead th {\n",
              "        text-align: right;\n",
              "    }\n",
              "</style>\n",
              "<table border=\"1\" class=\"dataframe\">\n",
              "  <thead>\n",
              "    <tr style=\"text-align: right;\">\n",
              "      <th></th>\n",
              "      <th>id</th>\n",
              "      <th>date_account_created</th>\n",
              "      <th>timestamp_first_active</th>\n",
              "      <th>date_first_booking</th>\n",
              "      <th>gender</th>\n",
              "      <th>age</th>\n",
              "      <th>signup_method</th>\n",
              "      <th>signup_flow</th>\n",
              "      <th>language</th>\n",
              "      <th>affiliate_channel</th>\n",
              "      <th>affiliate_provider</th>\n",
              "      <th>first_affiliate_tracked</th>\n",
              "      <th>signup_app</th>\n",
              "      <th>first_device_type</th>\n",
              "      <th>first_browser</th>\n",
              "      <th>country_destination</th>\n",
              "      <th>action</th>\n",
              "      <th>secs_elapsed</th>\n",
              "    </tr>\n",
              "  </thead>\n",
              "  <tbody>\n",
              "    <tr>\n",
              "      <th>0</th>\n",
              "      <td>gxn3p5htnn</td>\n",
              "      <td>2010-06-28</td>\n",
              "      <td>20090319043255</td>\n",
              "      <td>NaN</td>\n",
              "      <td>-unknown-</td>\n",
              "      <td>NaN</td>\n",
              "      <td>facebook</td>\n",
              "      <td>0</td>\n",
              "      <td>en</td>\n",
              "      <td>direct</td>\n",
              "      <td>direct</td>\n",
              "      <td>untracked</td>\n",
              "      <td>Web</td>\n",
              "      <td>Mac Desktop</td>\n",
              "      <td>Chrome</td>\n",
              "      <td>NDF</td>\n",
              "      <td>NaN</td>\n",
              "      <td>NaN</td>\n",
              "    </tr>\n",
              "    <tr>\n",
              "      <th>1</th>\n",
              "      <td>820tgsjxq7</td>\n",
              "      <td>2011-05-25</td>\n",
              "      <td>20090523174809</td>\n",
              "      <td>NaN</td>\n",
              "      <td>MALE</td>\n",
              "      <td>38.0</td>\n",
              "      <td>facebook</td>\n",
              "      <td>0</td>\n",
              "      <td>en</td>\n",
              "      <td>seo</td>\n",
              "      <td>google</td>\n",
              "      <td>untracked</td>\n",
              "      <td>Web</td>\n",
              "      <td>Mac Desktop</td>\n",
              "      <td>Chrome</td>\n",
              "      <td>NDF</td>\n",
              "      <td>NaN</td>\n",
              "      <td>NaN</td>\n",
              "    </tr>\n",
              "    <tr>\n",
              "      <th>2</th>\n",
              "      <td>4ft3gnwmtx</td>\n",
              "      <td>2010-09-28</td>\n",
              "      <td>20090609231247</td>\n",
              "      <td>2010-08-02</td>\n",
              "      <td>FEMALE</td>\n",
              "      <td>56.0</td>\n",
              "      <td>basic</td>\n",
              "      <td>3</td>\n",
              "      <td>en</td>\n",
              "      <td>direct</td>\n",
              "      <td>direct</td>\n",
              "      <td>untracked</td>\n",
              "      <td>Web</td>\n",
              "      <td>Windows Desktop</td>\n",
              "      <td>IE</td>\n",
              "      <td>US</td>\n",
              "      <td>NaN</td>\n",
              "      <td>NaN</td>\n",
              "    </tr>\n",
              "    <tr>\n",
              "      <th>3</th>\n",
              "      <td>bjjt8pjhuk</td>\n",
              "      <td>2011-12-05</td>\n",
              "      <td>20091031060129</td>\n",
              "      <td>2012-09-08</td>\n",
              "      <td>FEMALE</td>\n",
              "      <td>42.0</td>\n",
              "      <td>facebook</td>\n",
              "      <td>0</td>\n",
              "      <td>en</td>\n",
              "      <td>direct</td>\n",
              "      <td>direct</td>\n",
              "      <td>untracked</td>\n",
              "      <td>Web</td>\n",
              "      <td>Mac Desktop</td>\n",
              "      <td>Firefox</td>\n",
              "      <td>other</td>\n",
              "      <td>NaN</td>\n",
              "      <td>NaN</td>\n",
              "    </tr>\n",
              "    <tr>\n",
              "      <th>4</th>\n",
              "      <td>87mebub9p4</td>\n",
              "      <td>2010-09-14</td>\n",
              "      <td>20091208061105</td>\n",
              "      <td>2010-02-18</td>\n",
              "      <td>-unknown-</td>\n",
              "      <td>41.0</td>\n",
              "      <td>basic</td>\n",
              "      <td>0</td>\n",
              "      <td>en</td>\n",
              "      <td>direct</td>\n",
              "      <td>direct</td>\n",
              "      <td>untracked</td>\n",
              "      <td>Web</td>\n",
              "      <td>Mac Desktop</td>\n",
              "      <td>Chrome</td>\n",
              "      <td>US</td>\n",
              "      <td>NaN</td>\n",
              "      <td>NaN</td>\n",
              "    </tr>\n",
              "    <tr>\n",
              "      <th>5</th>\n",
              "      <td>osr2jwljor</td>\n",
              "      <td>2010-01-01</td>\n",
              "      <td>20100101215619</td>\n",
              "      <td>2010-01-02</td>\n",
              "      <td>-unknown-</td>\n",
              "      <td>NaN</td>\n",
              "      <td>basic</td>\n",
              "      <td>0</td>\n",
              "      <td>en</td>\n",
              "      <td>other</td>\n",
              "      <td>other</td>\n",
              "      <td>omg</td>\n",
              "      <td>Web</td>\n",
              "      <td>Mac Desktop</td>\n",
              "      <td>Chrome</td>\n",
              "      <td>US</td>\n",
              "      <td>NaN</td>\n",
              "      <td>NaN</td>\n",
              "    </tr>\n",
              "    <tr>\n",
              "      <th>6</th>\n",
              "      <td>lsw9q7uk0j</td>\n",
              "      <td>2010-01-02</td>\n",
              "      <td>20100102012558</td>\n",
              "      <td>2010-01-05</td>\n",
              "      <td>FEMALE</td>\n",
              "      <td>46.0</td>\n",
              "      <td>basic</td>\n",
              "      <td>0</td>\n",
              "      <td>en</td>\n",
              "      <td>other</td>\n",
              "      <td>craigslist</td>\n",
              "      <td>untracked</td>\n",
              "      <td>Web</td>\n",
              "      <td>Mac Desktop</td>\n",
              "      <td>Safari</td>\n",
              "      <td>US</td>\n",
              "      <td>NaN</td>\n",
              "      <td>NaN</td>\n",
              "    </tr>\n",
              "    <tr>\n",
              "      <th>7</th>\n",
              "      <td>0d01nltbrs</td>\n",
              "      <td>2010-01-03</td>\n",
              "      <td>20100103191905</td>\n",
              "      <td>2010-01-13</td>\n",
              "      <td>FEMALE</td>\n",
              "      <td>47.0</td>\n",
              "      <td>basic</td>\n",
              "      <td>0</td>\n",
              "      <td>en</td>\n",
              "      <td>direct</td>\n",
              "      <td>direct</td>\n",
              "      <td>omg</td>\n",
              "      <td>Web</td>\n",
              "      <td>Mac Desktop</td>\n",
              "      <td>Safari</td>\n",
              "      <td>US</td>\n",
              "      <td>NaN</td>\n",
              "      <td>NaN</td>\n",
              "    </tr>\n",
              "    <tr>\n",
              "      <th>8</th>\n",
              "      <td>a1vcnhxeij</td>\n",
              "      <td>2010-01-04</td>\n",
              "      <td>20100104004211</td>\n",
              "      <td>2010-07-29</td>\n",
              "      <td>FEMALE</td>\n",
              "      <td>50.0</td>\n",
              "      <td>basic</td>\n",
              "      <td>0</td>\n",
              "      <td>en</td>\n",
              "      <td>other</td>\n",
              "      <td>craigslist</td>\n",
              "      <td>untracked</td>\n",
              "      <td>Web</td>\n",
              "      <td>Mac Desktop</td>\n",
              "      <td>Safari</td>\n",
              "      <td>US</td>\n",
              "      <td>NaN</td>\n",
              "      <td>NaN</td>\n",
              "    </tr>\n",
              "    <tr>\n",
              "      <th>9</th>\n",
              "      <td>6uh8zyj2gn</td>\n",
              "      <td>2010-01-04</td>\n",
              "      <td>20100104023758</td>\n",
              "      <td>2010-01-04</td>\n",
              "      <td>-unknown-</td>\n",
              "      <td>46.0</td>\n",
              "      <td>basic</td>\n",
              "      <td>0</td>\n",
              "      <td>en</td>\n",
              "      <td>other</td>\n",
              "      <td>craigslist</td>\n",
              "      <td>omg</td>\n",
              "      <td>Web</td>\n",
              "      <td>Mac Desktop</td>\n",
              "      <td>Firefox</td>\n",
              "      <td>US</td>\n",
              "      <td>NaN</td>\n",
              "      <td>NaN</td>\n",
              "    </tr>\n",
              "  </tbody>\n",
              "</table>\n",
              "</div>"
            ],
            "text/plain": [
              "           id date_account_created  ...  action secs_elapsed\n",
              "0  gxn3p5htnn           2010-06-28  ...     NaN          NaN\n",
              "1  820tgsjxq7           2011-05-25  ...     NaN          NaN\n",
              "2  4ft3gnwmtx           2010-09-28  ...     NaN          NaN\n",
              "3  bjjt8pjhuk           2011-12-05  ...     NaN          NaN\n",
              "4  87mebub9p4           2010-09-14  ...     NaN          NaN\n",
              "5  osr2jwljor           2010-01-01  ...     NaN          NaN\n",
              "6  lsw9q7uk0j           2010-01-02  ...     NaN          NaN\n",
              "7  0d01nltbrs           2010-01-03  ...     NaN          NaN\n",
              "8  a1vcnhxeij           2010-01-04  ...     NaN          NaN\n",
              "9  6uh8zyj2gn           2010-01-04  ...     NaN          NaN\n",
              "\n",
              "[10 rows x 18 columns]"
            ]
          },
          "metadata": {},
          "execution_count": 12
        }
      ],
      "source": [
        "train_user_df.head(10)"
      ]
    },
    {
      "cell_type": "code",
      "execution_count": null,
      "metadata": {
        "id": "ixIAZEJQY68w"
      },
      "outputs": [],
      "source": [
        "# filling null columns of secs_elapsed, action and action_type columns with -1\n",
        "train_user_df.secs_elapsed.fillna(-1,inplace=True)\n",
        "train_user_df.action.fillna(-1,inplace=True)\n",
        "\n",
        "train_user_df['secs_elapsed']=train_user_df['secs_elapsed'].astype('int64')\n",
        "train_user_df['action']=train_user_df['action'].astype('int64')"
      ]
    },
    {
      "cell_type": "code",
      "execution_count": null,
      "metadata": {
        "id": "5O8fRqCLZPmw"
      },
      "outputs": [],
      "source": [
        "test_user_df.secs_elapsed.fillna(-1,inplace=True)\n",
        "test_user_df.action.fillna(-1,inplace=True)\n",
        "\n",
        "test_user_df['secs_elapsed']=test_user_df['secs_elapsed'].astype('int64')\n",
        "test_user_df['action']=test_user_df['action'].astype('int64')"
      ]
    },
    {
      "cell_type": "code",
      "execution_count": null,
      "metadata": {
        "colab": {
          "base_uri": "https://localhost:8080/"
        },
        "id": "yt2-4ZseZRRi",
        "outputId": "30bfbd32-9494-43e3-e1bf-e28e5fee6490"
      },
      "outputs": [
        {
          "data": {
            "text/plain": [
              "id                          0.000000\n",
              "date_account_created        0.000000\n",
              "timestamp_first_active      0.000000\n",
              "date_first_booking         58.347349\n",
              "gender                      0.000000\n",
              "age                        41.222576\n",
              "signup_method               0.000000\n",
              "signup_flow                 0.000000\n",
              "language                    0.000000\n",
              "affiliate_channel           0.000000\n",
              "affiliate_provider          0.000000\n",
              "first_affiliate_tracked     2.841402\n",
              "signup_app                  0.000000\n",
              "first_device_type           0.000000\n",
              "first_browser               0.000000\n",
              "country_destination         0.000000\n",
              "action                      0.000000\n",
              "secs_elapsed                0.000000\n",
              "dtype: float64"
            ]
          },
          "execution_count": 16,
          "metadata": {},
          "output_type": "execute_result"
        }
      ],
      "source": [
        "train_user_df.isnull().sum()/train_user_df.shape[0] *100"
      ]
    },
    {
      "cell_type": "markdown",
      "metadata": {
        "id": "2JNHdnU8Y7kl"
      },
      "source": [
        "## Data Cleaning"
      ]
    },
    {
      "cell_type": "code",
      "execution_count": null,
      "metadata": {
        "colab": {
          "base_uri": "https://localhost:8080/"
        },
        "id": "WSxeFFk96jQr",
        "outputId": "ccb9fe60-b1da-445f-8ba4-146ef3600b7c"
      },
      "outputs": [
        {
          "output_type": "execute_result",
          "data": {
            "text/plain": [
              "(68171, 18)"
            ]
          },
          "metadata": {},
          "execution_count": 17
        }
      ],
      "source": [
        "# Cleaning\n",
        "\n",
        "df =  train_user_df.dropna(axis = 0, how = 'any')\n",
        "df.shape"
      ]
    },
    {
      "cell_type": "code",
      "execution_count": null,
      "metadata": {
        "colab": {
          "base_uri": "https://localhost:8080/"
        },
        "id": "7PsURZVs7g0D",
        "outputId": "dc45d377-082f-47c2-bf80-599ed4b0ffd9"
      },
      "outputs": [
        {
          "data": {
            "text/plain": [
              "(213451, 18)"
            ]
          },
          "execution_count": 13,
          "metadata": {},
          "output_type": "execute_result"
        }
      ],
      "source": [
        "train_user_df.shape"
      ]
    },
    {
      "cell_type": "code",
      "execution_count": null,
      "metadata": {
        "colab": {
          "base_uri": "https://localhost:8080/",
          "height": 358
        },
        "id": "SnkjYrZN73AF",
        "outputId": "d2df6a90-0a25-4b93-c658-186f18da51e6"
      },
      "outputs": [
        {
          "output_type": "display_data",
          "data": {
            "image/png": "[encoded data removed]",
            "text/plain": [
              "<Figure size 504x360 with 1 Axes>"
            ]
          },
          "metadata": {}
        }
      ],
      "source": [
        "# imbalanced dataset\n",
        "import matplotlib.pyplot as plt\n",
        "import seaborn as sn\n",
        "\n",
        "\n",
        "order1 = train_user_df['country_destination'].value_counts()\n",
        "order2 = order1.index\n",
        "plt.figure(figsize=(7,5))\n",
        "sn.countplot(train_user_df['country_destination'],order=order2)\n",
        "plt.xlabel('Country Destination')\n",
        "plt.ylabel('Country Destination Count')\n",
        "for i in range(order1.shape[0]):\n",
        "    count = order1[i]\n",
        "    strg = '{:0.2f}%'.format(100*count/train_user_df.shape[0])\n",
        "    plt.text(i,count+1000,strg,ha='center')"
      ]
    },
    {
      "cell_type": "code",
      "source": [
        "plt.figure(figsize=(14,5))\n",
        "sn.set(style = 'darkgrid')\n",
        "sn.set_context(\"talk\")\n",
        "pal = sn.color_palette(\"ch:s=.25,rot=-.25\", len(gender))\n",
        "sn.set(style=\"whitegrid\", color_codes=True)\n",
        "gender = train_user['gender'].value_counts()\n",
        "rank = gender.argsort().argsort() \n",
        "sn.countplot('gender', data = train_user,order = train_user['gender'].value_counts().index, palette=np.array(pal[::-1])[rank])\n",
        "\n",
        "for i in range(gender.shape[0]):\n",
        "    range_count = gender[i]\n",
        "    per = round(((range_count*100)/train_user.shape[0]),2)\n",
        "    percent = '{}%'.format(per)\n",
        "    plt.text(i,range_count,percent)\n",
        "plt.xlabel('Gender')\n",
        "plt.ylabel('Count')\n",
        "plt.xticks(rotation = 45)\n",
        "plt.title('Percentage Distribution of Gender field')\n",
        "plt.show()"
      ],
      "metadata": {
        "colab": {
          "base_uri": "https://localhost:8080/",
          "height": 393
        },
        "id": "-S8uPujFf1vE",
        "outputId": "0dd8bfdf-7ff8-4567-cb2b-8381f8a724ca"
      },
      "execution_count": null,
      "outputs": [
        {
          "output_type": "display_data",
          "data": {
            "image/png": "[encoded data removed]",
            "text/plain": [
              "<Figure size 1008x360 with 1 Axes>"
            ]
          },
          "metadata": {}
        }
      ]
    },
    {
      "cell_type": "code",
      "execution_count": null,
      "metadata": {
        "id": "UpFaL6TjVJen"
      },
      "outputs": [],
      "source": [
        "# Handling null values and separating date, month and year \n",
        "\n",
        "# clubbing gender values having unknown and other \n",
        "train_user_df.gender.replace('-unknown-', 'OTHER', inplace=True)\n",
        "\n",
        "# filling null age values with median = 34\n",
        "train_user_df['age'].fillna(34,inplace=True)\n",
        "\n",
        "train_user_df['timestamp_first_active']=train_user_df['timestamp_first_active'].apply(lambda s:datetime(year=int(str(s)[0:4]), month=int(str(s)[4:6]), \n",
        "                                                                                day=int(str(s)[6:8])).strftime('%Y-%m-%d'))\n",
        "\n",
        "train_user_df['timestamp_first_active']=train_user_df['timestamp_first_active'].astype('datetime64[ns]')\n",
        "train_user_df['age']=train_user_df['age'].astype('int64')\n",
        "train_user_df['date_account_created']=train_user_df['date_account_created'].astype('datetime64[ns]')\n",
        "\n",
        "train_user_df['dac_year']=train_user_df['date_account_created'].dt.year\n",
        "train_user_df['dac_month']=train_user_df['date_account_created'].dt.month\n",
        "train_user_df['dac_day']=train_user_df['date_account_created'].dt.day\n",
        "\n",
        "train_user_df['tfa_year']=train_user_df['timestamp_first_active'].dt.year\n",
        "train_user_df['tfa_month']=train_user_df['timestamp_first_active'].dt.month\n",
        "train_user_df['tfa_day']=train_user_df['timestamp_first_active'].dt.day\n",
        "\n",
        "\n",
        "# clubbing categories\n",
        "train_user_df.signup_app.replace(['iOS','Android'],'SmartDevice',inplace=True)\n",
        "        \n",
        "train_user_df.drop(['date_first_booking','date_account_created','timestamp_first_active','first_device_type','first_browser'],axis=1,inplace=True)\n"
      ]
    },
    {
      "cell_type": "code",
      "execution_count": null,
      "metadata": {
        "id": "7hcL2s_xWknB"
      },
      "outputs": [],
      "source": [
        "#NULL test data\n",
        "test_user_df.gender.replace('-unknown-', 'OTHER', inplace=True)\n",
        "test_user_df['age'].fillna(-1,inplace=True)\n",
        "\n",
        "test_user_df['timestamp_first_active']=test_user_df['timestamp_first_active'].apply(lambda s:datetime(year=int(str(s)[0:4]), month=int(str(s)[4:6]), \n",
        "                                                                                day=int(str(s)[6:8])).strftime('%Y-%m-%d'))\n",
        "\n",
        "test_user_df['timestamp_first_active']=test_user_df['timestamp_first_active'].astype('datetime64[ns]')\n",
        "test_user_df['age']=test_user_df['age'].astype('int64')\n",
        "test_user_df['date_account_created']=test_user_df['date_account_created'].astype('datetime64[ns]')\n",
        "\n",
        "test_user_df['dac_year']=test_user_df['date_account_created'].dt.year\n",
        "test_user_df['dac_month']=test_user_df['date_account_created'].dt.month\n",
        "test_user_df['dac_day']=test_user_df['date_account_created'].dt.day\n",
        "\n",
        "test_user_df['tfa_year']=test_user_df['timestamp_first_active'].dt.year\n",
        "test_user_df['tfa_month']=test_user_df['timestamp_first_active'].dt.month\n",
        "test_user_df['tfa_day']=test_user_df['timestamp_first_active'].dt.day\n",
        "\n",
        "\n",
        "test_user_df.signup_app.replace(['iOS','Android'],'SmartDevice',inplace=True)\n",
        "      \n",
        "test_user_df.drop(['date_first_booking','date_account_created','timestamp_first_active','first_device_type','first_browser'],axis=1,inplace=True)\n"
      ]
    },
    {
      "cell_type": "code",
      "execution_count": null,
      "metadata": {
        "colab": {
          "base_uri": "https://localhost:8080/",
          "height": 226
        },
        "id": "mQXQ6cAFPfGF",
        "outputId": "dc336f1d-3323-4449-9eee-963affad3064"
      },
      "outputs": [
        {
          "data": {
            "text/html": [
              "<div>\n",
              "<style scoped>\n",
              "    .dataframe tbody tr th:only-of-type {\n",
              "        vertical-align: middle;\n",
              "    }\n",
              "\n",
              "    .dataframe tbody tr th {\n",
              "        vertical-align: top;\n",
              "    }\n",
              "\n",
              "    .dataframe thead th {\n",
              "        text-align: right;\n",
              "    }\n",
              "</style>\n",
              "<table border=\"1\" class=\"dataframe\">\n",
              "  <thead>\n",
              "    <tr style=\"text-align: right;\">\n",
              "      <th></th>\n",
              "      <th>id</th>\n",
              "      <th>gender</th>\n",
              "      <th>age</th>\n",
              "      <th>signup_method</th>\n",
              "      <th>signup_flow</th>\n",
              "      <th>language</th>\n",
              "      <th>affiliate_channel</th>\n",
              "      <th>affiliate_provider</th>\n",
              "      <th>first_affiliate_tracked</th>\n",
              "      <th>signup_app</th>\n",
              "      <th>country_destination</th>\n",
              "      <th>action</th>\n",
              "      <th>secs_elapsed</th>\n",
              "      <th>dac_year</th>\n",
              "      <th>dac_month</th>\n",
              "      <th>dac_day</th>\n",
              "      <th>tfa_year</th>\n",
              "      <th>tfa_month</th>\n",
              "      <th>tfa_day</th>\n",
              "    </tr>\n",
              "  </thead>\n",
              "  <tbody>\n",
              "    <tr>\n",
              "      <th>0</th>\n",
              "      <td>gxn3p5htnn</td>\n",
              "      <td>OTHER</td>\n",
              "      <td>34</td>\n",
              "      <td>facebook</td>\n",
              "      <td>0</td>\n",
              "      <td>en</td>\n",
              "      <td>direct</td>\n",
              "      <td>direct</td>\n",
              "      <td>untracked</td>\n",
              "      <td>Web</td>\n",
              "      <td>NDF</td>\n",
              "      <td>-1</td>\n",
              "      <td>-1</td>\n",
              "      <td>2010</td>\n",
              "      <td>6</td>\n",
              "      <td>28</td>\n",
              "      <td>2009</td>\n",
              "      <td>3</td>\n",
              "      <td>19</td>\n",
              "    </tr>\n",
              "    <tr>\n",
              "      <th>1</th>\n",
              "      <td>820tgsjxq7</td>\n",
              "      <td>MALE</td>\n",
              "      <td>38</td>\n",
              "      <td>facebook</td>\n",
              "      <td>0</td>\n",
              "      <td>en</td>\n",
              "      <td>seo</td>\n",
              "      <td>google</td>\n",
              "      <td>untracked</td>\n",
              "      <td>Web</td>\n",
              "      <td>NDF</td>\n",
              "      <td>-1</td>\n",
              "      <td>-1</td>\n",
              "      <td>2011</td>\n",
              "      <td>5</td>\n",
              "      <td>25</td>\n",
              "      <td>2009</td>\n",
              "      <td>5</td>\n",
              "      <td>23</td>\n",
              "    </tr>\n",
              "    <tr>\n",
              "      <th>2</th>\n",
              "      <td>4ft3gnwmtx</td>\n",
              "      <td>FEMALE</td>\n",
              "      <td>56</td>\n",
              "      <td>basic</td>\n",
              "      <td>3</td>\n",
              "      <td>en</td>\n",
              "      <td>direct</td>\n",
              "      <td>direct</td>\n",
              "      <td>untracked</td>\n",
              "      <td>Web</td>\n",
              "      <td>US</td>\n",
              "      <td>-1</td>\n",
              "      <td>-1</td>\n",
              "      <td>2010</td>\n",
              "      <td>9</td>\n",
              "      <td>28</td>\n",
              "      <td>2009</td>\n",
              "      <td>6</td>\n",
              "      <td>9</td>\n",
              "    </tr>\n",
              "    <tr>\n",
              "      <th>3</th>\n",
              "      <td>bjjt8pjhuk</td>\n",
              "      <td>FEMALE</td>\n",
              "      <td>42</td>\n",
              "      <td>facebook</td>\n",
              "      <td>0</td>\n",
              "      <td>en</td>\n",
              "      <td>direct</td>\n",
              "      <td>direct</td>\n",
              "      <td>untracked</td>\n",
              "      <td>Web</td>\n",
              "      <td>other</td>\n",
              "      <td>-1</td>\n",
              "      <td>-1</td>\n",
              "      <td>2011</td>\n",
              "      <td>12</td>\n",
              "      <td>5</td>\n",
              "      <td>2009</td>\n",
              "      <td>10</td>\n",
              "      <td>31</td>\n",
              "    </tr>\n",
              "    <tr>\n",
              "      <th>4</th>\n",
              "      <td>87mebub9p4</td>\n",
              "      <td>OTHER</td>\n",
              "      <td>41</td>\n",
              "      <td>basic</td>\n",
              "      <td>0</td>\n",
              "      <td>en</td>\n",
              "      <td>direct</td>\n",
              "      <td>direct</td>\n",
              "      <td>untracked</td>\n",
              "      <td>Web</td>\n",
              "      <td>US</td>\n",
              "      <td>-1</td>\n",
              "      <td>-1</td>\n",
              "      <td>2010</td>\n",
              "      <td>9</td>\n",
              "      <td>14</td>\n",
              "      <td>2009</td>\n",
              "      <td>12</td>\n",
              "      <td>8</td>\n",
              "    </tr>\n",
              "  </tbody>\n",
              "</table>\n",
              "</div>"
            ],
            "text/plain": [
              "           id  gender  age signup_method  ...  dac_day tfa_year tfa_month tfa_day\n",
              "0  gxn3p5htnn   OTHER   34      facebook  ...       28     2009         3      19\n",
              "1  820tgsjxq7    MALE   38      facebook  ...       25     2009         5      23\n",
              "2  4ft3gnwmtx  FEMALE   56         basic  ...       28     2009         6       9\n",
              "3  bjjt8pjhuk  FEMALE   42      facebook  ...        5     2009        10      31\n",
              "4  87mebub9p4   OTHER   41         basic  ...       14     2009        12       8\n",
              "\n",
              "[5 rows x 19 columns]"
            ]
          },
          "execution_count": 16,
          "metadata": {},
          "output_type": "execute_result"
        }
      ],
      "source": [
        "train_user_df.head()"
      ]
    },
    {
      "cell_type": "code",
      "execution_count": null,
      "metadata": {
        "id": "ve4Vydt1dFkM"
      },
      "outputs": [],
      "source": [
        "train_user_df.info()"
      ]
    },
    {
      "cell_type": "markdown",
      "metadata": {
        "id": "1pN5IJ5AR8Fa"
      },
      "source": [
        "# Age imputation"
      ]
    },
    {
      "cell_type": "code",
      "execution_count": null,
      "metadata": {
        "colab": {
          "base_uri": "https://localhost:8080/",
          "height": 355
        },
        "id": "5i7j2ynfQJ8x",
        "outputId": "dc515d51-a3fd-4484-db2c-721a6880d2e8"
      },
      "outputs": [
        {
          "output_type": "display_data",
          "data": {
            "image/png": "[encoded data removed]",
            "text/plain": [
              "<Figure size 720x360 with 1 Axes>"
            ]
          },
          "metadata": {
            "needs_background": "light"
          }
        }
      ],
      "source": [
        "import matplotlib.pyplot as plt\n",
        "\n",
        "plt.figure(figsize=(10,5))\n",
        "sn.set(style='darkgrid')\n",
        "sn.set_context('talk')\n",
        "sn.boxplot(train_user_df['age'].dropna())\n",
        "plt.show()"
      ]
    },
    {
      "cell_type": "code",
      "execution_count": null,
      "metadata": {
        "id": "nx0BiOvmS1MG"
      },
      "outputs": [],
      "source": [
        "train_user_df.drop(train_user_df[train_user_df['age'] < 15].index, inplace = True)\n",
        "train_user_df.drop(train_user_df[train_user_df['age'] > 110].index, inplace = True)"
      ]
    },
    {
      "cell_type": "code",
      "execution_count": null,
      "metadata": {
        "id": "L39kjW10kEdW"
      },
      "outputs": [],
      "source": [
        "test_user_df.drop(test_user_df[test_user_df['age'] < 15].index, inplace = True)\n",
        "test_user_df.drop(test_user_df[test_user_df['age'] > 110].index, inplace = True)"
      ]
    },
    {
      "cell_type": "code",
      "source": [
        "# Removed outlier graph\n",
        "\n",
        "plt.figure(figsize=(10,5))\n",
        "sn.set(style='darkgrid')\n",
        "sn.set_context('talk')\n",
        "sn.boxplot(train_user_df['age'].dropna())\n",
        "plt.show()"
      ],
      "metadata": {
        "colab": {
          "base_uri": "https://localhost:8080/",
          "height": 355
        },
        "id": "oJY2olJEgJau",
        "outputId": "b1daa962-2103-4a96-a370-794691e91450"
      },
      "execution_count": null,
      "outputs": [
        {
          "output_type": "display_data",
          "data": {
            "image/png": "[encoded data removed]",
            "text/plain": [
              "<Figure size 720x360 with 1 Axes>"
            ]
          },
          "metadata": {}
        }
      ]
    },
    {
      "cell_type": "code",
      "execution_count": null,
      "metadata": {
        "colab": {
          "base_uri": "https://localhost:8080/"
        },
        "id": "_3DN1wxmeUKi",
        "outputId": "11e2c9da-cd4f-4323-921b-186e7903dba8"
      },
      "outputs": [
        {
          "name": "stdout",
          "output_type": "stream",
          "text": [
            "<class 'pandas.core.frame.DataFrame'>\n",
            "Int64Index: 211049 entries, 0 to 213450\n",
            "Data columns (total 19 columns):\n",
            " #   Column                   Non-Null Count   Dtype \n",
            "---  ------                   --------------   ----- \n",
            " 0   id                       211049 non-null  object\n",
            " 1   gender                   211049 non-null  object\n",
            " 2   age                      211049 non-null  int64 \n",
            " 3   signup_method            211049 non-null  object\n",
            " 4   signup_flow              211049 non-null  int64 \n",
            " 5   language                 211049 non-null  object\n",
            " 6   affiliate_channel        211049 non-null  object\n",
            " 7   affiliate_provider       211049 non-null  object\n",
            " 8   first_affiliate_tracked  205053 non-null  object\n",
            " 9   signup_app               211049 non-null  object\n",
            " 10  country_destination      211049 non-null  object\n",
            " 11  action                   211049 non-null  int64 \n",
            " 12  secs_elapsed             211049 non-null  int64 \n",
            " 13  dac_year                 211049 non-null  int64 \n",
            " 14  dac_month                211049 non-null  int64 \n",
            " 15  dac_day                  211049 non-null  int64 \n",
            " 16  tfa_year                 211049 non-null  int64 \n",
            " 17  tfa_month                211049 non-null  int64 \n",
            " 18  tfa_day                  211049 non-null  int64 \n",
            "dtypes: int64(10), object(9)\n",
            "memory usage: 32.2+ MB\n"
          ]
        }
      ],
      "source": [
        "train_user_df.info()"
      ]
    },
    {
      "cell_type": "markdown",
      "metadata": {
        "id": "wdDk6ZEdeOJ-"
      },
      "source": [
        "# *Skewness in age*"
      ]
    },
    {
      "cell_type": "code",
      "execution_count": null,
      "metadata": {
        "colab": {
          "base_uri": "https://localhost:8080/"
        },
        "id": "sNki9xE4eRR5",
        "outputId": "3ea44075-7358-498c-b4b8-e458ff7195d4"
      },
      "outputs": [
        {
          "output_type": "execute_result",
          "data": {
            "text/plain": [
              "2.993378756627732"
            ]
          },
          "metadata": {},
          "execution_count": 22
        }
      ],
      "source": [
        "train_user_df['age'].skew(skipna = True)"
      ]
    },
    {
      "cell_type": "code",
      "execution_count": null,
      "metadata": {
        "colab": {
          "base_uri": "https://localhost:8080/",
          "height": 369
        },
        "id": "TJZ3Lv3dgygi",
        "outputId": "d62311ed-2ece-4129-969d-c69d071dcf8a"
      },
      "outputs": [
        {
          "output_type": "execute_result",
          "data": {
            "text/plain": [
              "(array([ 10778.,  50665., 121641.,  14541.,   8594.,   3563.,    871.,\n",
              "           198.,    198.,   1544.]),\n",
              " array([ 15. ,  24.5,  34. ,  43.5,  53. ,  62.5,  72. ,  81.5,  91. ,\n",
              "        100.5, 110. ]),\n",
              " <a list of 10 Patch objects>)"
            ]
          },
          "metadata": {},
          "execution_count": 20
        },
        {
          "output_type": "display_data",
          "data": {
            "image/png": "[encoded data removed]",
            "text/plain": [
              "<Figure size 432x288 with 1 Axes>"
            ]
          },
          "metadata": {}
        }
      ],
      "source": [
        "import matplotlib.pyplot as plt\n",
        "\n",
        "\n",
        "plt.hist(train_user_df['age'])"
      ]
    },
    {
      "cell_type": "code",
      "execution_count": null,
      "metadata": {
        "id": "jctbrqVUgkcv"
      },
      "outputs": [],
      "source": [
        "import math\n",
        "\n",
        "d  = train_user_df['age'].map(lambda x: math.log(x))\n",
        "df_age = pd.DataFrame(data=d,columns=['age'])\n",
        "\n",
        "train_user_df['age'] = df_age['age']"
      ]
    },
    {
      "cell_type": "code",
      "execution_count": null,
      "metadata": {
        "id": "T43306yOkz8b"
      },
      "outputs": [],
      "source": [
        "# repeating same for test data\n",
        "\n",
        "d  = test_user_df['age'].map(lambda x: math.log(x))\n",
        "df_age = pd.DataFrame(data=d,columns=['age'])\n",
        "\n",
        "test_user_df['age'] = df_age['age']"
      ]
    },
    {
      "cell_type": "code",
      "execution_count": null,
      "metadata": {
        "colab": {
          "base_uri": "https://localhost:8080/"
        },
        "id": "S-itJMaXhrb9",
        "outputId": "48c0c140-14d9-4d09-b84a-c98bbcb71d00"
      },
      "outputs": [
        {
          "output_type": "execute_result",
          "data": {
            "text/plain": [
              "age    0.77868\n",
              "dtype: float64"
            ]
          },
          "metadata": {},
          "execution_count": 71
        }
      ],
      "source": [
        "df_age.skew(skipna = True)"
      ]
    },
    {
      "cell_type": "code",
      "execution_count": null,
      "metadata": {
        "colab": {
          "base_uri": "https://localhost:8080/",
          "height": 385
        },
        "id": "y7MWVzt4iRoM",
        "outputId": "c0c404ee-b8ed-4e4e-bcc7-b8dffe8dc0b0"
      },
      "outputs": [
        {
          "output_type": "execute_result",
          "data": {
            "text/plain": [
              "(array([ 183., 2696., 7520., 9144., 5877., 3851., 2402., 1036.,  124.,\n",
              "         336.]),\n",
              " array([2.7080502 , 2.90729322, 3.10653623, 3.30577925, 3.50502227,\n",
              "        3.70426528, 3.9035083 , 4.10275132, 4.30199433, 4.50123735,\n",
              "        4.70048037]),\n",
              " <a list of 10 Patch objects>)"
            ]
          },
          "metadata": {},
          "execution_count": 23
        },
        {
          "output_type": "display_data",
          "data": {
            "image/png": "[encoded data removed]",
            "text/plain": [
              "<Figure size 432x288 with 1 Axes>"
            ]
          },
          "metadata": {}
        }
      ],
      "source": [
        "import matplotlib.pyplot as plt\n",
        "\n",
        "\n",
        "plt.hist(df_age['age'])"
      ]
    },
    {
      "cell_type": "markdown",
      "metadata": {
        "id": "6xS6p02Y0004"
      },
      "source": [
        "# correlation matrix:"
      ]
    },
    {
      "cell_type": "code",
      "execution_count": null,
      "metadata": {
        "colab": {
          "base_uri": "https://localhost:8080/",
          "height": 363
        },
        "id": "NKWVH7XalJYd",
        "outputId": "4d79ed7f-952e-4375-d897-0e97c02b6a9c"
      },
      "outputs": [
        {
          "output_type": "execute_result",
          "data": {
            "text/html": [
              "<div>\n",
              "<style scoped>\n",
              "    .dataframe tbody tr th:only-of-type {\n",
              "        vertical-align: middle;\n",
              "    }\n",
              "\n",
              "    .dataframe tbody tr th {\n",
              "        vertical-align: top;\n",
              "    }\n",
              "\n",
              "    .dataframe thead th {\n",
              "        text-align: right;\n",
              "    }\n",
              "</style>\n",
              "<table border=\"1\" class=\"dataframe\">\n",
              "  <thead>\n",
              "    <tr style=\"text-align: right;\">\n",
              "      <th></th>\n",
              "      <th>age</th>\n",
              "      <th>signup_flow</th>\n",
              "      <th>action</th>\n",
              "      <th>secs_elapsed</th>\n",
              "      <th>dac_year</th>\n",
              "      <th>dac_month</th>\n",
              "      <th>dac_day</th>\n",
              "      <th>tfa_year</th>\n",
              "      <th>tfa_month</th>\n",
              "      <th>tfa_day</th>\n",
              "    </tr>\n",
              "  </thead>\n",
              "  <tbody>\n",
              "    <tr>\n",
              "      <th>age</th>\n",
              "      <td>1.000000</td>\n",
              "      <td>-0.069755</td>\n",
              "      <td>-0.042560</td>\n",
              "      <td>-0.023904</td>\n",
              "      <td>-0.073519</td>\n",
              "      <td>0.014239</td>\n",
              "      <td>-0.004362</td>\n",
              "      <td>-0.073746</td>\n",
              "      <td>0.014166</td>\n",
              "      <td>-0.004395</td>\n",
              "    </tr>\n",
              "    <tr>\n",
              "      <th>signup_flow</th>\n",
              "      <td>-0.069755</td>\n",
              "      <td>1.000000</td>\n",
              "      <td>0.097579</td>\n",
              "      <td>0.037430</td>\n",
              "      <td>0.195362</td>\n",
              "      <td>-0.039079</td>\n",
              "      <td>0.014775</td>\n",
              "      <td>0.195189</td>\n",
              "      <td>-0.038980</td>\n",
              "      <td>0.014757</td>\n",
              "    </tr>\n",
              "    <tr>\n",
              "      <th>action</th>\n",
              "      <td>-0.042560</td>\n",
              "      <td>0.097579</td>\n",
              "      <td>1.000000</td>\n",
              "      <td>0.798734</td>\n",
              "      <td>0.361237</td>\n",
              "      <td>-0.220130</td>\n",
              "      <td>-0.001118</td>\n",
              "      <td>0.361257</td>\n",
              "      <td>-0.220135</td>\n",
              "      <td>-0.001113</td>\n",
              "    </tr>\n",
              "    <tr>\n",
              "      <th>secs_elapsed</th>\n",
              "      <td>-0.023904</td>\n",
              "      <td>0.037430</td>\n",
              "      <td>0.798734</td>\n",
              "      <td>1.000000</td>\n",
              "      <td>0.405354</td>\n",
              "      <td>-0.257169</td>\n",
              "      <td>0.001590</td>\n",
              "      <td>0.405377</td>\n",
              "      <td>-0.257175</td>\n",
              "      <td>0.001596</td>\n",
              "    </tr>\n",
              "    <tr>\n",
              "      <th>dac_year</th>\n",
              "      <td>-0.073519</td>\n",
              "      <td>0.195362</td>\n",
              "      <td>0.361237</td>\n",
              "      <td>0.405354</td>\n",
              "      <td>1.000000</td>\n",
              "      <td>-0.437238</td>\n",
              "      <td>0.003145</td>\n",
              "      <td>0.999321</td>\n",
              "      <td>-0.436864</td>\n",
              "      <td>0.003165</td>\n",
              "    </tr>\n",
              "    <tr>\n",
              "      <th>dac_month</th>\n",
              "      <td>0.014239</td>\n",
              "      <td>-0.039079</td>\n",
              "      <td>-0.220130</td>\n",
              "      <td>-0.257169</td>\n",
              "      <td>-0.437238</td>\n",
              "      <td>1.000000</td>\n",
              "      <td>-0.012992</td>\n",
              "      <td>-0.436736</td>\n",
              "      <td>0.999261</td>\n",
              "      <td>-0.012920</td>\n",
              "    </tr>\n",
              "    <tr>\n",
              "      <th>dac_day</th>\n",
              "      <td>-0.004362</td>\n",
              "      <td>0.014775</td>\n",
              "      <td>-0.001118</td>\n",
              "      <td>0.001590</td>\n",
              "      <td>0.003145</td>\n",
              "      <td>-0.012992</td>\n",
              "      <td>1.000000</td>\n",
              "      <td>0.003042</td>\n",
              "      <td>-0.013002</td>\n",
              "      <td>0.999266</td>\n",
              "    </tr>\n",
              "    <tr>\n",
              "      <th>tfa_year</th>\n",
              "      <td>-0.073746</td>\n",
              "      <td>0.195189</td>\n",
              "      <td>0.361257</td>\n",
              "      <td>0.405377</td>\n",
              "      <td>0.999321</td>\n",
              "      <td>-0.436736</td>\n",
              "      <td>0.003042</td>\n",
              "      <td>1.000000</td>\n",
              "      <td>-0.436822</td>\n",
              "      <td>0.003160</td>\n",
              "    </tr>\n",
              "    <tr>\n",
              "      <th>tfa_month</th>\n",
              "      <td>0.014166</td>\n",
              "      <td>-0.038980</td>\n",
              "      <td>-0.220135</td>\n",
              "      <td>-0.257175</td>\n",
              "      <td>-0.436864</td>\n",
              "      <td>0.999261</td>\n",
              "      <td>-0.013002</td>\n",
              "      <td>-0.436822</td>\n",
              "      <td>1.000000</td>\n",
              "      <td>-0.013018</td>\n",
              "    </tr>\n",
              "    <tr>\n",
              "      <th>tfa_day</th>\n",
              "      <td>-0.004395</td>\n",
              "      <td>0.014757</td>\n",
              "      <td>-0.001113</td>\n",
              "      <td>0.001596</td>\n",
              "      <td>0.003165</td>\n",
              "      <td>-0.012920</td>\n",
              "      <td>0.999266</td>\n",
              "      <td>0.003160</td>\n",
              "      <td>-0.013018</td>\n",
              "      <td>1.000000</td>\n",
              "    </tr>\n",
              "  </tbody>\n",
              "</table>\n",
              "</div>"
            ],
            "text/plain": [
              "                   age  signup_flow    action  ...  tfa_year  tfa_month   tfa_day\n",
              "age           1.000000    -0.069755 -0.042560  ... -0.073746   0.014166 -0.004395\n",
              "signup_flow  -0.069755     1.000000  0.097579  ...  0.195189  -0.038980  0.014757\n",
              "action       -0.042560     0.097579  1.000000  ...  0.361257  -0.220135 -0.001113\n",
              "secs_elapsed -0.023904     0.037430  0.798734  ...  0.405377  -0.257175  0.001596\n",
              "dac_year     -0.073519     0.195362  0.361237  ...  0.999321  -0.436864  0.003165\n",
              "dac_month     0.014239    -0.039079 -0.220130  ... -0.436736   0.999261 -0.012920\n",
              "dac_day      -0.004362     0.014775 -0.001118  ...  0.003042  -0.013002  0.999266\n",
              "tfa_year     -0.073746     0.195189  0.361257  ...  1.000000  -0.436822  0.003160\n",
              "tfa_month     0.014166    -0.038980 -0.220135  ... -0.436822   1.000000 -0.013018\n",
              "tfa_day      -0.004395     0.014757 -0.001113  ...  0.003160  -0.013018  1.000000\n",
              "\n",
              "[10 rows x 10 columns]"
            ]
          },
          "metadata": {},
          "execution_count": 27
        }
      ],
      "source": [
        "temp = train_user_df.corr()\n",
        "temp"
      ]
    },
    {
      "cell_type": "code",
      "execution_count": null,
      "metadata": {
        "colab": {
          "base_uri": "https://localhost:8080/",
          "height": 921
        },
        "id": "-GT-ZWiflbAA",
        "outputId": "9171ed1f-3b59-4f76-bd99-9e26f4e22efa"
      },
      "outputs": [
        {
          "output_type": "display_data",
          "data": {
            "image/png": "[encoded data removed]",
            "text/plain": [
              "<Figure size 1224x1008 with 2 Axes>"
            ]
          },
          "metadata": {}
        }
      ],
      "source": [
        "import seaborn as sn\n",
        "import matplotlib.pyplot as plt\n",
        "\n",
        "plt.figure(figsize=(17, 14))\n",
        "svm = sn.heatmap(train_user_df.corr(), annot=True)\n",
        "\n",
        "figure = svm.get_figure()    \n",
        "figure.savefig('svm_conf.png', dpi=1000)"
      ]
    },
    {
      "cell_type": "code",
      "execution_count": null,
      "metadata": {
        "id": "KU7ws1lTxa7G"
      },
      "outputs": [],
      "source": [
        "# removing timestamp first active\n",
        "\n",
        "train_user_df.drop(['tfa_year','tfa_month','tfa_day'], axis = 1, inplace = True)"
      ]
    },
    {
      "cell_type": "code",
      "execution_count": null,
      "metadata": {
        "id": "xBWxwMM-1QR7"
      },
      "outputs": [],
      "source": [
        "# removing timestamp first active\n",
        "\n",
        "test_user_df.drop(['tfa_year','tfa_month','tfa_day'], axis = 1, inplace = True)"
      ]
    },
    {
      "cell_type": "code",
      "execution_count": null,
      "metadata": {
        "colab": {
          "base_uri": "https://localhost:8080/",
          "height": 226
        },
        "id": "0juoOCFG1SOX",
        "outputId": "4cec2556-d6f6-46ae-81c8-0dadd4c98b1b"
      },
      "outputs": [
        {
          "data": {
            "text/html": [
              "<div>\n",
              "<style scoped>\n",
              "    .dataframe tbody tr th:only-of-type {\n",
              "        vertical-align: middle;\n",
              "    }\n",
              "\n",
              "    .dataframe tbody tr th {\n",
              "        vertical-align: top;\n",
              "    }\n",
              "\n",
              "    .dataframe thead th {\n",
              "        text-align: right;\n",
              "    }\n",
              "</style>\n",
              "<table border=\"1\" class=\"dataframe\">\n",
              "  <thead>\n",
              "    <tr style=\"text-align: right;\">\n",
              "      <th></th>\n",
              "      <th>id</th>\n",
              "      <th>gender</th>\n",
              "      <th>age</th>\n",
              "      <th>signup_method</th>\n",
              "      <th>signup_flow</th>\n",
              "      <th>language</th>\n",
              "      <th>affiliate_channel</th>\n",
              "      <th>affiliate_provider</th>\n",
              "      <th>first_affiliate_tracked</th>\n",
              "      <th>signup_app</th>\n",
              "      <th>country_destination</th>\n",
              "      <th>action</th>\n",
              "      <th>secs_elapsed</th>\n",
              "      <th>dac_year</th>\n",
              "      <th>dac_month</th>\n",
              "      <th>dac_day</th>\n",
              "    </tr>\n",
              "  </thead>\n",
              "  <tbody>\n",
              "    <tr>\n",
              "      <th>0</th>\n",
              "      <td>gxn3p5htnn</td>\n",
              "      <td>OTHER</td>\n",
              "      <td>3.526361</td>\n",
              "      <td>facebook</td>\n",
              "      <td>0</td>\n",
              "      <td>en</td>\n",
              "      <td>direct</td>\n",
              "      <td>direct</td>\n",
              "      <td>untracked</td>\n",
              "      <td>Web</td>\n",
              "      <td>NDF</td>\n",
              "      <td>-1</td>\n",
              "      <td>-1</td>\n",
              "      <td>2010</td>\n",
              "      <td>6</td>\n",
              "      <td>28</td>\n",
              "    </tr>\n",
              "    <tr>\n",
              "      <th>1</th>\n",
              "      <td>820tgsjxq7</td>\n",
              "      <td>MALE</td>\n",
              "      <td>3.637586</td>\n",
              "      <td>facebook</td>\n",
              "      <td>0</td>\n",
              "      <td>en</td>\n",
              "      <td>seo</td>\n",
              "      <td>google</td>\n",
              "      <td>untracked</td>\n",
              "      <td>Web</td>\n",
              "      <td>NDF</td>\n",
              "      <td>-1</td>\n",
              "      <td>-1</td>\n",
              "      <td>2011</td>\n",
              "      <td>5</td>\n",
              "      <td>25</td>\n",
              "    </tr>\n",
              "    <tr>\n",
              "      <th>2</th>\n",
              "      <td>4ft3gnwmtx</td>\n",
              "      <td>FEMALE</td>\n",
              "      <td>4.025352</td>\n",
              "      <td>basic</td>\n",
              "      <td>3</td>\n",
              "      <td>en</td>\n",
              "      <td>direct</td>\n",
              "      <td>direct</td>\n",
              "      <td>untracked</td>\n",
              "      <td>Web</td>\n",
              "      <td>US</td>\n",
              "      <td>-1</td>\n",
              "      <td>-1</td>\n",
              "      <td>2010</td>\n",
              "      <td>9</td>\n",
              "      <td>28</td>\n",
              "    </tr>\n",
              "    <tr>\n",
              "      <th>3</th>\n",
              "      <td>bjjt8pjhuk</td>\n",
              "      <td>FEMALE</td>\n",
              "      <td>3.737670</td>\n",
              "      <td>facebook</td>\n",
              "      <td>0</td>\n",
              "      <td>en</td>\n",
              "      <td>direct</td>\n",
              "      <td>direct</td>\n",
              "      <td>untracked</td>\n",
              "      <td>Web</td>\n",
              "      <td>other</td>\n",
              "      <td>-1</td>\n",
              "      <td>-1</td>\n",
              "      <td>2011</td>\n",
              "      <td>12</td>\n",
              "      <td>5</td>\n",
              "    </tr>\n",
              "    <tr>\n",
              "      <th>4</th>\n",
              "      <td>87mebub9p4</td>\n",
              "      <td>OTHER</td>\n",
              "      <td>3.713572</td>\n",
              "      <td>basic</td>\n",
              "      <td>0</td>\n",
              "      <td>en</td>\n",
              "      <td>direct</td>\n",
              "      <td>direct</td>\n",
              "      <td>untracked</td>\n",
              "      <td>Web</td>\n",
              "      <td>US</td>\n",
              "      <td>-1</td>\n",
              "      <td>-1</td>\n",
              "      <td>2010</td>\n",
              "      <td>9</td>\n",
              "      <td>14</td>\n",
              "    </tr>\n",
              "  </tbody>\n",
              "</table>\n",
              "</div>"
            ],
            "text/plain": [
              "           id  gender       age  ... dac_year  dac_month dac_day\n",
              "0  gxn3p5htnn   OTHER  3.526361  ...     2010          6      28\n",
              "1  820tgsjxq7    MALE  3.637586  ...     2011          5      25\n",
              "2  4ft3gnwmtx  FEMALE  4.025352  ...     2010          9      28\n",
              "3  bjjt8pjhuk  FEMALE  3.737670  ...     2011         12       5\n",
              "4  87mebub9p4   OTHER  3.713572  ...     2010          9      14\n",
              "\n",
              "[5 rows x 16 columns]"
            ]
          },
          "execution_count": 24,
          "metadata": {},
          "output_type": "execute_result"
        }
      ],
      "source": [
        "train_user_df.head()"
      ]
    },
    {
      "cell_type": "markdown",
      "source": [
        "## Test train split"
      ],
      "metadata": {
        "id": "htpyrN0jgmIT"
      }
    },
    {
      "cell_type": "code",
      "source": [
        "train_user_df.describe()"
      ],
      "metadata": {
        "id": "NqeBSJYfhKlk",
        "colab": {
          "base_uri": "https://localhost:8080/",
          "height": 300
        },
        "outputId": "3ac11448-5641-4dbb-ed6a-f41cbc73ce5e"
      },
      "execution_count": null,
      "outputs": [
        {
          "output_type": "execute_result",
          "data": {
            "text/html": [
              "<div>\n",
              "<style scoped>\n",
              "    .dataframe tbody tr th:only-of-type {\n",
              "        vertical-align: middle;\n",
              "    }\n",
              "\n",
              "    .dataframe tbody tr th {\n",
              "        vertical-align: top;\n",
              "    }\n",
              "\n",
              "    .dataframe thead th {\n",
              "        text-align: right;\n",
              "    }\n",
              "</style>\n",
              "<table border=\"1\" class=\"dataframe\">\n",
              "  <thead>\n",
              "    <tr style=\"text-align: right;\">\n",
              "      <th></th>\n",
              "      <th>age</th>\n",
              "      <th>signup_flow</th>\n",
              "      <th>action</th>\n",
              "      <th>secs_elapsed</th>\n",
              "      <th>dac_year</th>\n",
              "      <th>dac_month</th>\n",
              "      <th>dac_day</th>\n",
              "    </tr>\n",
              "  </thead>\n",
              "  <tbody>\n",
              "    <tr>\n",
              "      <th>count</th>\n",
              "      <td>212593.000000</td>\n",
              "      <td>212593.000000</td>\n",
              "      <td>212593.000000</td>\n",
              "      <td>2.125930e+05</td>\n",
              "      <td>212593.000000</td>\n",
              "      <td>212593.000000</td>\n",
              "      <td>212593.000000</td>\n",
              "    </tr>\n",
              "    <tr>\n",
              "      <th>mean</th>\n",
              "      <td>3.550356</td>\n",
              "      <td>3.273744</td>\n",
              "      <td>25.089076</td>\n",
              "      <td>5.025037e+05</td>\n",
              "      <td>2013.026134</td>\n",
              "      <td>6.022066</td>\n",
              "      <td>15.869549</td>\n",
              "    </tr>\n",
              "    <tr>\n",
              "      <th>std</th>\n",
              "      <td>0.243856</td>\n",
              "      <td>7.645469</td>\n",
              "      <td>75.054541</td>\n",
              "      <td>1.288297e+06</td>\n",
              "      <td>0.937109</td>\n",
              "      <td>3.236826</td>\n",
              "      <td>8.740251</td>\n",
              "    </tr>\n",
              "    <tr>\n",
              "      <th>min</th>\n",
              "      <td>2.708050</td>\n",
              "      <td>0.000000</td>\n",
              "      <td>-1.000000</td>\n",
              "      <td>-1.000000e+00</td>\n",
              "      <td>2010.000000</td>\n",
              "      <td>1.000000</td>\n",
              "      <td>1.000000</td>\n",
              "    </tr>\n",
              "    <tr>\n",
              "      <th>25%</th>\n",
              "      <td>3.465736</td>\n",
              "      <td>0.000000</td>\n",
              "      <td>-1.000000</td>\n",
              "      <td>-1.000000e+00</td>\n",
              "      <td>2012.000000</td>\n",
              "      <td>3.000000</td>\n",
              "      <td>8.000000</td>\n",
              "    </tr>\n",
              "    <tr>\n",
              "      <th>50%</th>\n",
              "      <td>3.526361</td>\n",
              "      <td>0.000000</td>\n",
              "      <td>-1.000000</td>\n",
              "      <td>-1.000000e+00</td>\n",
              "      <td>2013.000000</td>\n",
              "      <td>6.000000</td>\n",
              "      <td>16.000000</td>\n",
              "    </tr>\n",
              "    <tr>\n",
              "      <th>75%</th>\n",
              "      <td>3.583519</td>\n",
              "      <td>0.000000</td>\n",
              "      <td>15.000000</td>\n",
              "      <td>2.866810e+05</td>\n",
              "      <td>2014.000000</td>\n",
              "      <td>9.000000</td>\n",
              "      <td>23.000000</td>\n",
              "    </tr>\n",
              "    <tr>\n",
              "      <th>max</th>\n",
              "      <td>4.700480</td>\n",
              "      <td>25.000000</td>\n",
              "      <td>2643.000000</td>\n",
              "      <td>2.927072e+07</td>\n",
              "      <td>2014.000000</td>\n",
              "      <td>12.000000</td>\n",
              "      <td>31.000000</td>\n",
              "    </tr>\n",
              "  </tbody>\n",
              "</table>\n",
              "</div>"
            ],
            "text/plain": [
              "                 age    signup_flow  ...      dac_month        dac_day\n",
              "count  212593.000000  212593.000000  ...  212593.000000  212593.000000\n",
              "mean        3.550356       3.273744  ...       6.022066      15.869549\n",
              "std         0.243856       7.645469  ...       3.236826       8.740251\n",
              "min         2.708050       0.000000  ...       1.000000       1.000000\n",
              "25%         3.465736       0.000000  ...       3.000000       8.000000\n",
              "50%         3.526361       0.000000  ...       6.000000      16.000000\n",
              "75%         3.583519       0.000000  ...       9.000000      23.000000\n",
              "max         4.700480      25.000000  ...      12.000000      31.000000\n",
              "\n",
              "[8 rows x 7 columns]"
            ]
          },
          "metadata": {},
          "execution_count": 29
        }
      ]
    },
    {
      "cell_type": "code",
      "execution_count": null,
      "metadata": {
        "id": "66TLMFlxtlmA"
      },
      "outputs": [],
      "source": [
        "import plotly.express as px\n",
        "from sklearn.decomposition import PCA\n",
        "from sklearn.preprocessing import StandardScaler"
      ]
    },
    {
      "cell_type": "code",
      "execution_count": null,
      "metadata": {
        "id": "VByXcM9B1rpa"
      },
      "outputs": [],
      "source": [
        "# encoding\n",
        "\n",
        "temp_train = train_user_df.drop(['country_destination','id'], axis = 1)\n",
        "temp_y = train_user_df['country_destination']\n",
        "\n",
        "cato = temp_train.select_dtypes(include=['object']).copy()\n",
        "onehot = pd.get_dummies(cato,columns = cato.columns)\n",
        "# print(onehot.shape)\n",
        "\n",
        "temp_train = temp_train.drop(cato.columns,axis=1)\n",
        "temp_train = pd.concat([temp_train, onehot],axis=1)\n",
        "\n"
      ]
    },
    {
      "cell_type": "code",
      "execution_count": null,
      "metadata": {
        "id": "5LMbaq-56Dhn"
      },
      "outputs": [],
      "source": [
        "from sklearn.model_selection import train_test_split\n",
        "\n",
        "x = train_user_df.drop(['country_destination','id'],axis = 1)\n",
        "y = train_user_df.country_destination\n",
        "\n",
        "train_x, test_x, train_y, test_y = train_test_split( temp_train , temp_y, test_size=0.2, random_state=1)"
      ]
    },
    {
      "cell_type": "code",
      "execution_count": null,
      "metadata": {
        "colab": {
          "base_uri": "https://localhost:8080/"
        },
        "id": "UUfxoRBPwRon",
        "outputId": "818138a0-9dfb-42cb-c09c-bf55e8597f9f"
      },
      "outputs": [
        {
          "output_type": "execute_result",
          "data": {
            "text/plain": [
              "((59527, 74), (170074, 74), (59527,), (170074,))"
            ]
          },
          "metadata": {},
          "execution_count": 33
        }
      ],
      "source": [
        "test_x.shape, train_x.shape, test_y.shape, train_y.shape"
      ]
    },
    {
      "cell_type": "code",
      "execution_count": null,
      "metadata": {
        "id": "2QM75go415-X"
      },
      "outputs": [],
      "source": [
        "scaler = StandardScaler()\n",
        "\n",
        "# Fit on training set only.\n",
        "scaler.fit(train_x)\n",
        "\n",
        "# Apply transform to both the training set and the test set.\n",
        "train_x = scaler.transform(train_x)\n",
        "test_x = scaler.transform(test_x)\n"
      ]
    },
    {
      "cell_type": "markdown",
      "source": [
        "## PCA"
      ],
      "metadata": {
        "id": "WxRSVgdbZigH"
      }
    },
    {
      "cell_type": "code",
      "execution_count": null,
      "metadata": {
        "colab": {
          "base_uri": "https://localhost:8080/"
        },
        "id": "CHRWmUK63zNj",
        "outputId": "45108ed8-696a-449d-932f-b34736ba21c1"
      },
      "outputs": [
        {
          "output_type": "stream",
          "name": "stdout",
          "text": [
            "Using components, we can explain 0.9527827426750032% of the variability in the original data.\n"
          ]
        }
      ],
      "source": [
        "# PCA\n",
        "\n",
        "pca = PCA(.95)\n",
        "pca.fit(train_x)\n",
        "X_train_pca = pca.transform(train_x)\n",
        "X_test_pca = pca.transform(test_x)\n",
        "\n",
        "# print(pd.DataFrame(pca.components_,columns= X_train.columns,index = ['PC-1','PC-2','PC-3','PC-4','PC-5','PC-6','PC-7','PC-8','PC-9','PC-10', 'PC-11', 'PC-12']))\n",
        "comp_check = pca.explained_variance_ratio_\n",
        "num_comps = comp_check.shape[0]\n",
        "print(\"Using components, we can explain {}% of the variability in the original data.\".format(comp_check.sum()))\n",
        "\n",
        "\n",
        "\n",
        "# pca variance chart\n",
        "exp_var_cumul = np.cumsum(pca.explained_variance_ratio_)\n",
        "plt = px.area(\n",
        "  x=range(1, exp_var_cumul.shape[0] + 1),\n",
        "  y=exp_var_cumul,\n",
        "  labels={\"x\": \"# Components\", \"y\": \"Explained Variance\"}\n",
        ")"
      ]
    },
    {
      "cell_type": "code",
      "execution_count": null,
      "metadata": {
        "colab": {
          "base_uri": "https://localhost:8080/",
          "height": 542
        },
        "id": "l0DU76VjuAkP",
        "outputId": "d9fe90a8-619b-4e58-e3fb-6f107dfb1fbc"
      },
      "outputs": [
        {
          "output_type": "display_data",
          "data": {
            "text/html": [
              "<html>\n",
              "<head><meta charset=\"utf-8\" /></head>\n",
              "<body>\n",
              "    <div>\n",
              "            <script src=\"https://cdnjs.cloudflare.com/ajax/libs/mathjax/2.7.5/MathJax.js?config=TeX-AMS-MML_SVG\"></script><script type=\"text/javascript\">if (window.MathJax) {MathJax.Hub.Config({SVG: {font: \"STIX-Web\"}});}</script>\n",
              "                <script type=\"text/javascript\">window.PlotlyConfig = {MathJaxConfig: 'local'};</script>\n",
              "        <script src=\"https://cdn.plot.ly/plotly-latest.min.js\"></script>    \n",
              "            <div id=\"f5706091-1391-4c04-b63b-23b3a5dcc08f\" class=\"plotly-graph-div\" style=\"height:525px; width:100%;\"></div>\n",
              "            <script type=\"text/javascript\">\n",
              "                \n",
              "                    window.PLOTLYENV=window.PLOTLYENV || {};\n",
              "                    \n",
              "                if (document.getElementById(\"f5706091-1391-4c04-b63b-23b3a5dcc08f\")) {\n",
              "                    Plotly.newPlot(\n",
              "                        'f5706091-1391-4c04-b63b-23b3a5dcc08f',\n",
              "                        [{\"hoverlabel\": {\"namelength\": 0}, \"hovertemplate\": \"# Components=%{x}<br>Explained Variance=%{y}\", \"legendgroup\": \"\", \"line\": {\"color\": \"#636efa\"}, \"mode\": \"lines\", \"name\": \"\", \"orientation\": \"v\", \"showlegend\": false, \"stackgroup\": \"1\", \"type\": \"scatter\", \"x\": [1, 2, 3, 4, 5, 6, 7, 8, 9, 10, 11, 12, 13, 14, 15, 16, 17, 18, 19, 20, 21, 22, 23, 24, 25, 26, 27, 28, 29, 30, 31, 32, 33, 34, 35, 36, 37, 38, 39, 40, 41, 42, 43, 44, 45, 46, 47, 48, 49, 50, 51, 52, 53, 54, 55, 56, 57], \"xaxis\": \"x\", \"y\": [0.06205019708946847, 0.10643607593210988, 0.14804774913824817, 0.1810643678879433, 0.2083639235911492, 0.23504145921012234, 0.25838706220258495, 0.2775275863612945, 0.29631874275429715, 0.3138551867667847, 0.33108749129105686, 0.34787559288488074, 0.3639049192639578, 0.379771631252888, 0.39525153129194285, 0.41004584280247297, 0.4245135368673979, 0.43877321557085064, 0.45295048016290806, 0.4669303608072677, 0.48083358290240497, 0.49465391952690363, 0.5084367300033829, 0.5220957096119733, 0.5357382965266207, 0.5493600629924851, 0.5629547617409346, 0.5765348508793801, 0.5900828972767512, 0.6036201747247413, 0.6171538381558525, 0.6306746977756001, 0.6441911283127189, 0.657707157961759, 0.6712216163838081, 0.68473542774085, 0.6982484282629892, 0.7117587808587159, 0.7252673920362266, 0.7387721300647232, 0.7522417234739934, 0.7656736553516725, 0.7790775023778748, 0.7923986309235923, 0.8056849861215317, 0.8188918581416322, 0.8320656056840958, 0.8451629235468988, 0.8582167669623665, 0.871111958603342, 0.8838148437890898, 0.8963633325246071, 0.908460046632045, 0.9202225701814315, 0.9313650669230531, 0.9422869680717347, 0.9527827426750031], \"yaxis\": \"y\"}],\n",
              "                        {\"legend\": {\"tracegroupgap\": 0}, \"margin\": {\"t\": 60}, \"template\": {\"data\": {\"bar\": [{\"error_x\": {\"color\": \"#2a3f5f\"}, \"error_y\": {\"color\": \"#2a3f5f\"}, \"marker\": {\"line\": {\"color\": \"#E5ECF6\", \"width\": 0.5}}, \"type\": \"bar\"}], \"barpolar\": [{\"marker\": {\"line\": {\"color\": \"#E5ECF6\", \"width\": 0.5}}, \"type\": \"barpolar\"}], \"carpet\": [{\"aaxis\": {\"endlinecolor\": \"#2a3f5f\", \"gridcolor\": \"white\", \"linecolor\": \"white\", \"minorgridcolor\": \"white\", \"startlinecolor\": \"#2a3f5f\"}, \"baxis\": {\"endlinecolor\": \"#2a3f5f\", \"gridcolor\": \"white\", \"linecolor\": \"white\", \"minorgridcolor\": \"white\", \"startlinecolor\": \"#2a3f5f\"}, \"type\": \"carpet\"}], \"choropleth\": [{\"colorbar\": {\"outlinewidth\": 0, \"ticks\": \"\"}, \"type\": \"choropleth\"}], \"contour\": [{\"colorbar\": {\"outlinewidth\": 0, \"ticks\": \"\"}, \"colorscale\": [[0.0, \"#0d0887\"], [0.1111111111111111, \"#46039f\"], [0.2222222222222222, \"#7201a8\"], [0.3333333333333333, \"#9c179e\"], [0.4444444444444444, \"#bd3786\"], [0.5555555555555556, \"#d8576b\"], [0.6666666666666666, \"#ed7953\"], [0.7777777777777778, \"#fb9f3a\"], [0.8888888888888888, \"#fdca26\"], [1.0, \"#f0f921\"]], \"type\": \"contour\"}], \"contourcarpet\": [{\"colorbar\": {\"outlinewidth\": 0, \"ticks\": \"\"}, \"type\": \"contourcarpet\"}], \"heatmap\": [{\"colorbar\": {\"outlinewidth\": 0, \"ticks\": \"\"}, \"colorscale\": [[0.0, \"#0d0887\"], [0.1111111111111111, \"#46039f\"], [0.2222222222222222, \"#7201a8\"], [0.3333333333333333, \"#9c179e\"], [0.4444444444444444, \"#bd3786\"], [0.5555555555555556, \"#d8576b\"], [0.6666666666666666, \"#ed7953\"], [0.7777777777777778, \"#fb9f3a\"], [0.8888888888888888, \"#fdca26\"], [1.0, \"#f0f921\"]], \"type\": \"heatmap\"}], \"heatmapgl\": [{\"colorbar\": {\"outlinewidth\": 0, \"ticks\": \"\"}, \"colorscale\": [[0.0, \"#0d0887\"], [0.1111111111111111, \"#46039f\"], [0.2222222222222222, \"#7201a8\"], [0.3333333333333333, \"#9c179e\"], [0.4444444444444444, \"#bd3786\"], [0.5555555555555556, \"#d8576b\"], [0.6666666666666666, \"#ed7953\"], [0.7777777777777778, \"#fb9f3a\"], [0.8888888888888888, \"#fdca26\"], [1.0, \"#f0f921\"]], \"type\": \"heatmapgl\"}], \"histogram\": [{\"marker\": {\"colorbar\": {\"outlinewidth\": 0, \"ticks\": \"\"}}, \"type\": \"histogram\"}], \"histogram2d\": [{\"colorbar\": {\"outlinewidth\": 0, \"ticks\": \"\"}, \"colorscale\": [[0.0, \"#0d0887\"], [0.1111111111111111, \"#46039f\"], [0.2222222222222222, \"#7201a8\"], [0.3333333333333333, \"#9c179e\"], [0.4444444444444444, \"#bd3786\"], [0.5555555555555556, \"#d8576b\"], [0.6666666666666666, \"#ed7953\"], [0.7777777777777778, \"#fb9f3a\"], [0.8888888888888888, \"#fdca26\"], [1.0, \"#f0f921\"]], \"type\": \"histogram2d\"}], \"histogram2dcontour\": [{\"colorbar\": {\"outlinewidth\": 0, \"ticks\": \"\"}, \"colorscale\": [[0.0, \"#0d0887\"], [0.1111111111111111, \"#46039f\"], [0.2222222222222222, \"#7201a8\"], [0.3333333333333333, \"#9c179e\"], [0.4444444444444444, \"#bd3786\"], [0.5555555555555556, \"#d8576b\"], [0.6666666666666666, \"#ed7953\"], [0.7777777777777778, \"#fb9f3a\"], [0.8888888888888888, \"#fdca26\"], [1.0, \"#f0f921\"]], \"type\": \"histogram2dcontour\"}], \"mesh3d\": [{\"colorbar\": {\"outlinewidth\": 0, \"ticks\": \"\"}, \"type\": \"mesh3d\"}], \"parcoords\": [{\"line\": {\"colorbar\": {\"outlinewidth\": 0, \"ticks\": \"\"}}, \"type\": \"parcoords\"}], \"pie\": [{\"automargin\": true, \"type\": \"pie\"}], \"scatter\": [{\"marker\": {\"colorbar\": {\"outlinewidth\": 0, \"ticks\": \"\"}}, \"type\": \"scatter\"}], \"scatter3d\": [{\"line\": {\"colorbar\": {\"outlinewidth\": 0, \"ticks\": \"\"}}, \"marker\": {\"colorbar\": {\"outlinewidth\": 0, \"ticks\": \"\"}}, \"type\": \"scatter3d\"}], \"scattercarpet\": [{\"marker\": {\"colorbar\": {\"outlinewidth\": 0, \"ticks\": \"\"}}, \"type\": \"scattercarpet\"}], \"scattergeo\": [{\"marker\": {\"colorbar\": {\"outlinewidth\": 0, \"ticks\": \"\"}}, \"type\": \"scattergeo\"}], \"scattergl\": [{\"marker\": {\"colorbar\": {\"outlinewidth\": 0, \"ticks\": \"\"}}, \"type\": \"scattergl\"}], \"scattermapbox\": [{\"marker\": {\"colorbar\": {\"outlinewidth\": 0, \"ticks\": \"\"}}, \"type\": \"scattermapbox\"}], \"scatterpolar\": [{\"marker\": {\"colorbar\": {\"outlinewidth\": 0, \"ticks\": \"\"}}, \"type\": \"scatterpolar\"}], \"scatterpolargl\": [{\"marker\": {\"colorbar\": {\"outlinewidth\": 0, \"ticks\": \"\"}}, \"type\": \"scatterpolargl\"}], \"scatterternary\": [{\"marker\": {\"colorbar\": {\"outlinewidth\": 0, \"ticks\": \"\"}}, \"type\": \"scatterternary\"}], \"surface\": [{\"colorbar\": {\"outlinewidth\": 0, \"ticks\": \"\"}, \"colorscale\": [[0.0, \"#0d0887\"], [0.1111111111111111, \"#46039f\"], [0.2222222222222222, \"#7201a8\"], [0.3333333333333333, \"#9c179e\"], [0.4444444444444444, \"#bd3786\"], [0.5555555555555556, \"#d8576b\"], [0.6666666666666666, \"#ed7953\"], [0.7777777777777778, \"#fb9f3a\"], [0.8888888888888888, \"#fdca26\"], [1.0, \"#f0f921\"]], \"type\": \"surface\"}], \"table\": [{\"cells\": {\"fill\": {\"color\": \"#EBF0F8\"}, \"line\": {\"color\": \"white\"}}, \"header\": {\"fill\": {\"color\": \"#C8D4E3\"}, \"line\": {\"color\": \"white\"}}, \"type\": \"table\"}]}, \"layout\": {\"annotationdefaults\": {\"arrowcolor\": \"#2a3f5f\", \"arrowhead\": 0, \"arrowwidth\": 1}, \"coloraxis\": {\"colorbar\": {\"outlinewidth\": 0, \"ticks\": \"\"}}, \"colorscale\": {\"diverging\": [[0, \"#8e0152\"], [0.1, \"#c51b7d\"], [0.2, \"#de77ae\"], [0.3, \"#f1b6da\"], [0.4, \"#fde0ef\"], [0.5, \"#f7f7f7\"], [0.6, \"#e6f5d0\"], [0.7, \"#b8e186\"], [0.8, \"#7fbc41\"], [0.9, \"#4d9221\"], [1, \"#276419\"]], \"sequential\": [[0.0, \"#0d0887\"], [0.1111111111111111, \"#46039f\"], [0.2222222222222222, \"#7201a8\"], [0.3333333333333333, \"#9c179e\"], [0.4444444444444444, \"#bd3786\"], [0.5555555555555556, \"#d8576b\"], [0.6666666666666666, \"#ed7953\"], [0.7777777777777778, \"#fb9f3a\"], [0.8888888888888888, \"#fdca26\"], [1.0, \"#f0f921\"]], \"sequentialminus\": [[0.0, \"#0d0887\"], [0.1111111111111111, \"#46039f\"], [0.2222222222222222, \"#7201a8\"], [0.3333333333333333, \"#9c179e\"], [0.4444444444444444, \"#bd3786\"], [0.5555555555555556, \"#d8576b\"], [0.6666666666666666, \"#ed7953\"], [0.7777777777777778, \"#fb9f3a\"], [0.8888888888888888, \"#fdca26\"], [1.0, \"#f0f921\"]]}, \"colorway\": [\"#636efa\", \"#EF553B\", \"#00cc96\", \"#ab63fa\", \"#FFA15A\", \"#19d3f3\", \"#FF6692\", \"#B6E880\", \"#FF97FF\", \"#FECB52\"], \"font\": {\"color\": \"#2a3f5f\"}, \"geo\": {\"bgcolor\": \"white\", \"lakecolor\": \"white\", \"landcolor\": \"#E5ECF6\", \"showlakes\": true, \"showland\": true, \"subunitcolor\": \"white\"}, \"hoverlabel\": {\"align\": \"left\"}, \"hovermode\": \"closest\", \"mapbox\": {\"style\": \"light\"}, \"paper_bgcolor\": \"white\", \"plot_bgcolor\": \"#E5ECF6\", \"polar\": {\"angularaxis\": {\"gridcolor\": \"white\", \"linecolor\": \"white\", \"ticks\": \"\"}, \"bgcolor\": \"#E5ECF6\", \"radialaxis\": {\"gridcolor\": \"white\", \"linecolor\": \"white\", \"ticks\": \"\"}}, \"scene\": {\"xaxis\": {\"backgroundcolor\": \"#E5ECF6\", \"gridcolor\": \"white\", \"gridwidth\": 2, \"linecolor\": \"white\", \"showbackground\": true, \"ticks\": \"\", \"zerolinecolor\": \"white\"}, \"yaxis\": {\"backgroundcolor\": \"#E5ECF6\", \"gridcolor\": \"white\", \"gridwidth\": 2, \"linecolor\": \"white\", \"showbackground\": true, \"ticks\": \"\", \"zerolinecolor\": \"white\"}, \"zaxis\": {\"backgroundcolor\": \"#E5ECF6\", \"gridcolor\": \"white\", \"gridwidth\": 2, \"linecolor\": \"white\", \"showbackground\": true, \"ticks\": \"\", \"zerolinecolor\": \"white\"}}, \"shapedefaults\": {\"line\": {\"color\": \"#2a3f5f\"}}, \"ternary\": {\"aaxis\": {\"gridcolor\": \"white\", \"linecolor\": \"white\", \"ticks\": \"\"}, \"baxis\": {\"gridcolor\": \"white\", \"linecolor\": \"white\", \"ticks\": \"\"}, \"bgcolor\": \"#E5ECF6\", \"caxis\": {\"gridcolor\": \"white\", \"linecolor\": \"white\", \"ticks\": \"\"}}, \"title\": {\"x\": 0.05}, \"xaxis\": {\"automargin\": true, \"gridcolor\": \"white\", \"linecolor\": \"white\", \"ticks\": \"\", \"title\": {\"standoff\": 15}, \"zerolinecolor\": \"white\", \"zerolinewidth\": 2}, \"yaxis\": {\"automargin\": true, \"gridcolor\": \"white\", \"linecolor\": \"white\", \"ticks\": \"\", \"title\": {\"standoff\": 15}, \"zerolinecolor\": \"white\", \"zerolinewidth\": 2}}}, \"xaxis\": {\"anchor\": \"y\", \"domain\": [0.0, 1.0], \"title\": {\"text\": \"# Components\"}}, \"yaxis\": {\"anchor\": \"x\", \"domain\": [0.0, 1.0], \"title\": {\"text\": \"Explained Variance\"}}},\n",
              "                        {\"responsive\": true}\n",
              "                    ).then(function(){\n",
              "                            \n",
              "var gd = document.getElementById('f5706091-1391-4c04-b63b-23b3a5dcc08f');\n",
              "var x = new MutationObserver(function (mutations, observer) {{\n",
              "        var display = window.getComputedStyle(gd).display;\n",
              "        if (!display || display === 'none') {{\n",
              "            console.log([gd, 'removed!']);\n",
              "            Plotly.purge(gd);\n",
              "            observer.disconnect();\n",
              "        }}\n",
              "}});\n",
              "\n",
              "// Listen for the removal of the full notebook cells\n",
              "var notebookContainer = gd.closest('#notebook-container');\n",
              "if (notebookContainer) {{\n",
              "    x.observe(notebookContainer, {childList: true});\n",
              "}}\n",
              "\n",
              "// Listen for the clearing of the current output cell\n",
              "var outputEl = gd.closest('.output');\n",
              "if (outputEl) {{\n",
              "    x.observe(outputEl, {childList: true});\n",
              "}}\n",
              "\n",
              "                        })\n",
              "                };\n",
              "                \n",
              "            </script>\n",
              "        </div>\n",
              "</body>\n",
              "</html>"
            ]
          },
          "metadata": {}
        }
      ],
      "source": [
        "plt.show()"
      ]
    },
    {
      "cell_type": "markdown",
      "source": [
        "## Modelling"
      ],
      "metadata": {
        "id": "JiQpZnnBaU8O"
      }
    },
    {
      "cell_type": "code",
      "execution_count": null,
      "metadata": {
        "id": "r0h6HYSfDWmz"
      },
      "outputs": [],
      "source": [
        "# Encoding target variable\n",
        "\n",
        "le = LabelEncoder()\n",
        "train_y = le.fit_transform(train_y)\n",
        " "
      ]
    },
    {
      "cell_type": "code",
      "execution_count": null,
      "metadata": {
        "id": "JApE8IBqEqSq"
      },
      "outputs": [],
      "source": [
        "from sklearn.svm import SVC\n",
        "from sklearn.ensemble import RandomForestClassifier"
      ]
    },
    {
      "cell_type": "code",
      "execution_count": null,
      "metadata": {
        "colab": {
          "base_uri": "https://localhost:8080/"
        },
        "id": "2AroVSUv1340",
        "outputId": "806476bb-884d-4d96-a198-286c35ddeebd"
      },
      "outputs": [
        {
          "output_type": "stream",
          "name": "stdout",
          "text": [
            "{'n_estimators': [200, 400, 600], 'min_samples_split': [2], 'min_samples_leaf': [1]}\n"
          ]
        }
      ],
      "source": [
        "from sklearn.model_selection import RandomizedSearchCV\n",
        "\n",
        "# Number of trees in random forest\n",
        "n_estimators = [200, 400, 600]\n",
        "# Minimum number of samples required to split a node\n",
        "min_samples_split = [2, 5, 10]\n",
        "# Minimum number of samples required at each leaf node\n",
        "min_samples_leaf = [1, 2, 4]\n",
        "random_grid = {'n_estimators': n_estimators,\n",
        "               'min_samples_split': min_samples_split,\n",
        "               'min_samples_leaf': min_samples_leaf,\n",
        "               }\n",
        "print(random_grid)"
      ]
    },
    {
      "cell_type": "code",
      "execution_count": null,
      "metadata": {
        "colab": {
          "base_uri": "https://localhost:8080/"
        },
        "id": "Kb3DeejG-7p4",
        "outputId": "b064da1f-9a9f-448b-844e-a367d91da564"
      },
      "outputs": [
        {
          "output_type": "stream",
          "name": "stdout",
          "text": [
            "Fitting 2 folds for each of 3 candidates, totalling 6 fits\n"
          ]
        },
        {
          "output_type": "execute_result",
          "data": {
            "text/plain": [
              "RandomizedSearchCV(cv=2, estimator=RandomForestClassifier(), n_iter=100,\n",
              "                   n_jobs=-1,\n",
              "                   param_distributions={'min_samples_leaf': [1],\n",
              "                                        'min_samples_split': [2],\n",
              "                                        'n_estimators': [200, 400, 600]},\n",
              "                   random_state=42, scoring='f1_weighted', verbose=2)"
            ]
          },
          "metadata": {},
          "execution_count": 101
        }
      ],
      "source": [
        "rf = RandomForestClassifier()\n",
        "rf_random = RandomizedSearchCV(estimator = rf, scoring = 'f1_weighted', param_distributions = random_grid, cv = 2, n_iter = 100, verbose=2, random_state=42, n_jobs = -1)\n",
        "# Fit the random search model\n",
        "rf_random.fit(X_train_pca, train_y)"
      ]
    },
    {
      "cell_type": "code",
      "source": [
        "rf_random.best_params_"
      ],
      "metadata": {
        "id": "6yp3buWeSY8a",
        "colab": {
          "base_uri": "https://localhost:8080/"
        },
        "outputId": "12fe62ea-5b9b-4c18-ab3f-dd53fcdb8c72"
      },
      "execution_count": null,
      "outputs": [
        {
          "output_type": "execute_result",
          "data": {
            "text/plain": [
              "{'min_samples_leaf': 1, 'min_samples_split': 2, 'n_estimators': 400}"
            ]
          },
          "metadata": {},
          "execution_count": 105
        }
      ]
    },
    {
      "cell_type": "code",
      "execution_count": null,
      "metadata": {
        "id": "Ti-_9bEMqSZs"
      },
      "outputs": [],
      "source": [
        "pred_y = rf_random.best_estimator_.predict(X_test_pca)"
      ]
    },
    {
      "cell_type": "code",
      "execution_count": null,
      "metadata": {
        "id": "CFPZgcVdrXoY"
      },
      "outputs": [],
      "source": [
        "from sklearn.metrics import classification_report, confusion_matrix, accuracy_score\n",
        "from sklearn.metrics import f1_score,recall_score, precision_score"
      ]
    },
    {
      "cell_type": "code",
      "execution_count": null,
      "metadata": {
        "id": "xyDekA8vrFf4",
        "colab": {
          "base_uri": "https://localhost:8080/",
          "height": 1000
        },
        "outputId": "96786359-c889-4acd-8ac1-52aa42cb6c8f"
      },
      "outputs": [
        {
          "output_type": "stream",
          "name": "stdout",
          "text": [
            "              precision    recall  f1-score   support\n",
            "\n",
            "          AU       0.76      0.34      0.47       125\n",
            "          CA       0.69      0.25      0.37       411\n",
            "          DE       0.67      0.21      0.32       295\n",
            "          ES       0.71      0.25      0.36       620\n",
            "          FR       0.72      0.23      0.35      1430\n",
            "          GB       0.67      0.25      0.36       642\n",
            "          IT       0.72      0.25      0.37       778\n",
            "         NDF       0.73      0.86      0.79     34772\n",
            "          NL       0.78      0.21      0.33       226\n",
            "          PT       0.75      0.26      0.39        68\n",
            "          US       0.59      0.55      0.57     17379\n",
            "       other       0.68      0.26      0.38      2781\n",
            "\n",
            "    accuracy                           0.69     59527\n",
            "   macro avg       0.71      0.33      0.42     59527\n",
            "weighted avg       0.69      0.69      0.68     59527\n",
            "\n"
          ]
        },
        {
          "output_type": "display_data",
          "data": {
            "image/png": "[encoded data removed]",
            "text/plain": [
              "<Figure size 1008x720 with 2 Axes>"
            ]
          },
          "metadata": {
            "needs_background": "light"
          }
        },
        {
          "output_type": "stream",
          "name": "stdout",
          "text": [
            "\n",
            "\n",
            "Accuracy score for random forest:  0.6944411779528618\n",
            "0.6750806792567877\n"
          ]
        }
      ],
      "source": [
        "import matplotlib.pyplot as plt\n",
        "import seaborn as sn\n",
        "\n",
        "print(classification_report(test_y, le.inverse_transform(pred_y)))\n",
        "cm = confusion_matrix(test_y, le.inverse_transform(pred_y))\n",
        "\n",
        "\n",
        "plt.figure(figsize=(14,10))\n",
        "sn = sn.heatmap(data=cm,linewidths=.5, annot=True,square = True,  cmap = 'Blues',fmt='g')\n",
        "plt.ylabel('Actual label')\n",
        "plt.xlabel('Predicted label')\n",
        "plt.show()\n",
        "figure = sn.get_figure()\n",
        "# figure.savefig('cm_rf.png', dpi=1000)\n",
        "\n",
        "print('\\n\\nAccuracy score for random forest: ', accuracy_score(test_y, le.inverse_transform(pred_y)))\n",
        "print(f1_score(test_y, le.inverse_transform(pred_y),average = \"weighted\"))"
      ]
    },
    {
      "cell_type": "code",
      "execution_count": null,
      "metadata": {
        "id": "e7PTw-aal-ow"
      },
      "outputs": [],
      "source": [
        "from numpy import mean\n",
        "from numpy import std\n",
        "from numpy import absolute\n",
        "from sklearn.model_selection import cross_val_score\n",
        "from sklearn.model_selection import RepeatedKFold\n"
      ]
    },
    {
      "cell_type": "code",
      "execution_count": null,
      "metadata": {
        "colab": {
          "base_uri": "https://localhost:8080/"
        },
        "id": "ASZ10uFi9H9Z",
        "outputId": "755d382c-9f13-44fb-bb4f-79fa9674f7fb"
      },
      "outputs": [
        {
          "output_type": "stream",
          "name": "stdout",
          "text": [
            "Best: 0.537204 using {'alpha': 1}\n",
            "0.537204 (0.003125) with: {'alpha': 0.1}\n",
            "0.537204 (0.003125) with: {'alpha': 0.3}\n",
            "0.537204 (0.003125) with: {'alpha': 0.6}\n",
            "0.537204 (0.003125) with: {'alpha': 1}\n"
          ]
        }
      ],
      "source": [
        "# ridge algorithm without resampling\n",
        "\n",
        "from sklearn.linear_model import RidgeClassifier, RidgeClassifierCV\n",
        "from numpy import arange\n",
        "from sklearn.model_selection import GridSearchCV\n",
        "from sklearn.linear_model import Ridge\n",
        "from sklearn.datasets import make_blobs\n",
        "from sklearn.model_selection import RepeatedStratifiedKFold\n",
        "\n",
        "alpha = [0.1, 0.3, 0.6, 1]\n",
        "\n",
        "grid = dict(alpha=alpha)\n",
        "\n",
        "model = RidgeClassifier()\n",
        "\n",
        "cv = RepeatedStratifiedKFold(n_splits=10, n_repeats=3, random_state=1)\n",
        "grid_search = GridSearchCV(estimator=model, param_grid=grid, n_jobs=-1, cv=cv, scoring='f1_weighted',error_score=0)\n",
        "grid_result = grid_search.fit(X_train_pca, train_y)\n",
        "# summarize results\n",
        "print(\"Best: %f using %s\" % (grid_result.best_score_, grid_result.best_params_))\n",
        "means = grid_result.cv_results_['mean_test_score']\n",
        "stds = grid_result.cv_results_['std_test_score']\n",
        "params = grid_result.cv_results_['params']\n",
        "for mean, stdev, param in zip(means, stds, params):\n",
        "    print(\"%f (%f) with: %r\" % (mean, stdev, param))"
      ]
    },
    {
      "cell_type": "code",
      "source": [
        "rc = RidgeClassifier(alpha = 1)\n",
        "rc.fit(X_train_pca, train_y)\n",
        "\n",
        "ypred = rc.predict(X_test_pca)"
      ],
      "metadata": {
        "colab": {
          "base_uri": "https://localhost:8080/"
        },
        "id": "UH-1tK4qj8J3",
        "outputId": "70dc7f9d-0310-4d32-a680-debeb5bb1ebf"
      },
      "execution_count": null,
      "outputs": [
        {
          "output_type": "execute_result",
          "data": {
            "text/plain": [
              "RidgeClassifier(alpha=1)"
            ]
          },
          "metadata": {},
          "execution_count": 128
        }
      ]
    },
    {
      "cell_type": "code",
      "execution_count": null,
      "metadata": {
        "id": "wL-oyntM9Uzi",
        "colab": {
          "base_uri": "https://localhost:8080/",
          "height": 815
        },
        "outputId": "a6238697-006b-483d-afa9-6a8d1df01b89"
      },
      "outputs": [
        {
          "output_type": "stream",
          "name": "stdout",
          "text": [
            "              precision    recall  f1-score   support\n",
            "\n",
            "          AU       0.00      0.00      0.00       125\n",
            "          CA       0.00      0.00      0.00       411\n",
            "          DE       0.00      0.00      0.00       295\n",
            "          ES       0.00      0.00      0.00       620\n",
            "          FR       0.00      0.00      0.00      1430\n",
            "          GB       0.00      0.00      0.00       642\n",
            "          IT       0.00      0.00      0.00       778\n",
            "         NDF       0.64      0.87      0.74     34772\n",
            "          NL       0.00      0.00      0.00       226\n",
            "          PT       0.00      0.00      0.00        68\n",
            "          US       0.45      0.31      0.36     17379\n",
            "       other       0.00      0.00      0.00      2781\n",
            "\n",
            "    accuracy                           0.60     59527\n",
            "   macro avg       0.09      0.10      0.09     59527\n",
            "weighted avg       0.50      0.60      0.54     59527\n",
            "\n"
          ]
        },
        {
          "output_type": "display_data",
          "data": {
            "image/png": "[encoded data removed]",
            "text/plain": [
              "<Figure size 1800x504 with 2 Axes>"
            ]
          },
          "metadata": {
            "needs_background": "light"
          }
        },
        {
          "output_type": "stream",
          "name": "stdout",
          "text": [
            "0.599660658188721\n",
            "0.5366874641016983\n"
          ]
        }
      ],
      "source": [
        "from sklearn.metrics import classification_report, accuracy_score, confusion_matrix\n",
        "import matplotlib.pyplot as plt\n",
        "from sklearn.metrics import f1_score,recall_score, precision_score\n",
        "\n",
        "print(classification_report(test_y, le.inverse_transform(ypred)))\n",
        "cm = confusion_matrix(test_y, le.inverse_transform(ypred))\n",
        "  \n",
        "plt.figure(figsize=(25,7))\n",
        "sn.heatmap(data=cm,linewidths=.5, annot=True,square = True,  cmap = 'Blues',fmt='g')\n",
        "plt.ylabel('Actual label')\n",
        "plt.xlabel('Predicted label')\n",
        "plt.show()\n",
        "\n",
        "print(accuracy_score(test_y, le.inverse_transform(ypred)))\n",
        "print(f1_score(test_y, le.inverse_transform(ypred), average = \"weighted\"))"
      ]
    },
    {
      "cell_type": "markdown",
      "source": [
        "# With SMOTE and random undersampling"
      ],
      "metadata": {
        "id": "ARmy6PYL8jCs"
      }
    },
    {
      "cell_type": "code",
      "execution_count": null,
      "metadata": {
        "id": "Rc6rgTsWIcYM"
      },
      "outputs": [],
      "source": [
        "# Resampling using SMOTE and random under sampling\n",
        "\n",
        "from imblearn.over_sampling import SMOTE\n",
        "from imblearn.under_sampling import RandomUnderSampler\n",
        "from imblearn.pipeline import Pipeline\n",
        "\n",
        "\n",
        "sampling_strategy_over = {0: 800, 1: 3000, 2: 2000, 3: 3000, 4: 5000, 5: 3000, 6: 3000, 8: 1000, 9: 300, 11: 15000}\n",
        "sampling_strategy_under = {7: 50000}\n",
        "\n",
        "under = RandomUnderSampler(sampling_strategy = sampling_strategy_under)\n",
        "over = SMOTE(sampling_strategy_over)\n",
        "steps = [('u', under),('o', over)]\n",
        "pipeline = Pipeline(steps=steps)\n",
        "\n",
        "X_sm, y_sm = pipeline.fit_resample(X_train_pca, train_y) "
      ]
    },
    {
      "cell_type": "code",
      "execution_count": null,
      "metadata": {
        "colab": {
          "base_uri": "https://localhost:8080/"
        },
        "id": "fXdZ-JdASkm2",
        "outputId": "f64b5c2d-a2cb-492d-c742-7db6f44bb6df"
      },
      "outputs": [
        {
          "output_type": "stream",
          "name": "stdout",
          "text": [
            "RidgeClassifier(alpha=1, class_weight='balanced', normalize=False,\n",
            "                random_state=1, solver='svd')\n"
          ]
        }
      ],
      "source": [
        "# ridge with resampling\n",
        "\n",
        "from sklearn.linear_model import RidgeClassifier\n",
        "\n",
        "\n",
        "rc = RidgeClassifier(alpha=1, class_weight= 'balanced', copy_X=True, fit_intercept=True,\n",
        "                max_iter=None, normalize=False, random_state= 1,\n",
        "                solver='svd')\n",
        "\n",
        "rc.fit(X_sm, y_sm)\n",
        "ypred = rc.predict(X_test_pca)\n",
        "\n",
        "\n",
        "print(classification_report(test_y, le.inverse_transform(ypred)))\n",
        "cm = confusion_matrix(test_y, le.inverse_transform(ypred))\n",
        "\n",
        "  \n",
        "plt.figure(figsize=(15,8))\n",
        "sn.heatmap(data=cm,linewidths=.5, annot=True,square = True,  cmap = 'Blues',fmt='g')\n",
        "plt.ylabel('Actual label')\n",
        "plt.xlabel('Predicted label')\n",
        "plt.show()\n",
        "\n",
        "print(accuracy_score(test_y, le.inverse_transform(ypred)))\n",
        "print(f1_score(test_y, le.inverse_transform(ypred), average=\"weighted\"))"
      ]
    },
    {
      "cell_type": "code",
      "source": [
        "#  random forest with resampling\n",
        "\n",
        "rf = RandomForestClassifier()\n",
        "rf.fit(X_sm, y_sm)\n",
        "\n",
        "ypred = rf.predict(X_test_pca)\n",
        "\n",
        "\n",
        "print(classification_report(test_y, le.inverse_transform(ypred)))\n",
        "cm = confusion_matrix(test_y, le.inverse_transform(ypred))\n",
        "\n",
        "  \n",
        "plt.figure(figsize=(15,8))\n",
        "sn.heatmap(data=cm,linewidths=.5, annot=True,square = True,  cmap = 'Blues',fmt='g')\n",
        "plt.ylabel('Actual label')\n",
        "plt.xlabel('Predicted label')\n",
        "plt.show()\n",
        "\n",
        "print(accuracy_score(test_y, le.inverse_transform(ypred)))\n",
        "print(f1_score(test_y, le.inverse_transform(ypred), average=\"weighted\"))"
      ],
      "metadata": {
        "id": "VTxJVjTnCC3V"
      },
      "execution_count": null,
      "outputs": []
    },
    {
      "cell_type": "markdown",
      "source": [
        "# Without resampling\n",
        "(since no visible advantage due to resampling is observed)"
      ],
      "metadata": {
        "id": "VPrkeUCX6ihQ"
      }
    },
    {
      "cell_type": "code",
      "source": [
        "# EXTRA TREES ALGORITHM\n",
        "# https://machinelearningmastery.com/extra-trees-ensemble-with-python/\n",
        "\n",
        "\n",
        "from sklearn.ensemble import ExtraTreesClassifier\n",
        "from sklearn.model_selection import RepeatedStratifiedKFold\n",
        "from sklearn.ensemble import ExtraTreesClassifier\n",
        "\n",
        "\n",
        "def get_models():\n",
        "\tmodels = dict()\n",
        "\t# define number of trees to consider\n",
        "\tn_trees = [10,50,100]\n",
        "\tfor n in n_trees:\n",
        "\t\tmodels[str(n)] = ExtraTreesClassifier(n_estimators=n)\n",
        "\treturn models\n",
        " \n",
        "# evaluate a given model using cross-validation\n",
        "def evaluate_model(model, X, y):\n",
        "\t# define the evaluation procedure\n",
        "\tcv = RepeatedStratifiedKFold(n_splits=10, n_repeats=3, random_state=1)\n",
        "\t# evaluate the model and collect the results\n",
        "\tscores = cross_val_score(model, X, y, scoring='f1_weighted', cv=cv, n_jobs=-1)\n",
        "\treturn scores\n",
        "\n",
        "\n",
        "# get the models to evaluate\n",
        "models = get_models()\n",
        "# evaluate the models and store results\n",
        "results, names = list(), list()\n",
        "for name, model in models.items():\n",
        "\t# evaluate the model\n",
        "\tscores = evaluate_model(model, X_train_pca, train_y)\n",
        "\t# store the results\n",
        "\tresults.append(scores)\n",
        "\tnames.append(name)\n",
        "\t# summarize the performance along the way\n",
        "\tprint('>%s %.3f (%.3f)' % (name, mean(scores), std(scores)))\n",
        "# plot model performance for comparison\n"
      ],
      "metadata": {
        "colab": {
          "base_uri": "https://localhost:8080/"
        },
        "id": "VWgM2JdGLJmQ",
        "outputId": "907d6e1f-930a-4c74-e4b8-43ad8425e520"
      },
      "execution_count": null,
      "outputs": [
        {
          "output_type": "stream",
          "name": "stdout",
          "text": [
            ">10 0.528 (0.003)\n",
            ">50 0.535 (0.003)\n",
            ">100 0.535 (0.003)\n"
          ]
        }
      ]
    },
    {
      "cell_type": "code",
      "source": [
        "plt.boxplot(results, labels=names, showmeans=True)\n",
        "plt.xlabel('Extra Trees Ensemble Size')\n",
        "plt.ylabel('Classification Accuracy')\n",
        "plt.title('Effect of tuning Extra Trees Ensemble Size on Accuracy')\n",
        "plt.show()"
      ],
      "metadata": {
        "colab": {
          "base_uri": "https://localhost:8080/",
          "height": 295
        },
        "id": "MfGB0UQ-eInd",
        "outputId": "44fb3da4-8348-46b9-f430-1aefe30e4005"
      },
      "execution_count": null,
      "outputs": [
        {
          "output_type": "display_data",
          "data": {
            "image/png": "[encoded data removed]",
            "text/plain": [
              "<Figure size 432x288 with 1 Axes>"
            ]
          },
          "metadata": {
            "needs_background": "light"
          }
        }
      ]
    },
    {
      "cell_type": "code",
      "source": [
        "# from numpy import arrange\n",
        "\n",
        "# get a list of models to evaluate\n",
        "def get_models():\n",
        "\tmodels = dict()\n",
        "\t# explore number of features from 1 to 10\n",
        "\tfor i in [1, 2, 4, 6]:\n",
        "\t\tmodels[str(i)] = ExtraTreesClassifier(max_features=i)\n",
        "\treturn models\n",
        " \n",
        "# evaluate a given model using cross-validation\n",
        "def evaluate_model(model, X, y):\n",
        "\t# define the evaluation procedure\n",
        "\tcv = RepeatedStratifiedKFold(n_splits=10, n_repeats=3, random_state=1)\n",
        "\t# evaluate the model and collect the results\n",
        "\tscores = cross_val_score(model, X, y, scoring='f1_weighted', cv=cv, n_jobs=-1)\n",
        "\treturn scores\n",
        " \n",
        "# get the models to evaluate\n",
        "models = get_models()\n",
        "# evaluate the models and store results\n",
        "results, names = list(), list()\n",
        "for name, model in models.items():\n",
        "\t# evaluate the model\n",
        "\tscores = evaluate_model(model, X_train_pca, train_y)\n",
        "\t# store the results\n",
        "\tresults.append(scores)\n",
        "\tnames.append(name)\n",
        "\t# summarize the performance along the way\n",
        "\tprint('>%s %.3f (%.3f)' % (name, mean(scores), std(scores)))"
      ],
      "metadata": {
        "colab": {
          "base_uri": "https://localhost:8080/"
        },
        "id": "BgW5VGjojftI",
        "outputId": "bead3060-efba-41b1-84c0-39fc2ddf4a3f"
      },
      "execution_count": null,
      "outputs": [
        {
          "output_type": "stream",
          "name": "stdout",
          "text": [
            ">1 0.535 (0.003)\n",
            ">2 0.536 (0.003)\n",
            ">4 0.536 (0.003)\n",
            ">6 0.535 (0.003)\n"
          ]
        }
      ]
    },
    {
      "cell_type": "code",
      "source": [
        "plt.boxplot(results, labels=names, showmeans=True)\n",
        "plt.xlabel('Extra Trees Feature Set Size')\n",
        "plt.ylabel('Classification Accuracy')\n",
        "plt.title('Effect of tuning Extra Trees Feature Set Size on Accuracy')\n",
        "plt.show()"
      ],
      "metadata": {
        "colab": {
          "base_uri": "https://localhost:8080/",
          "height": 295
        },
        "id": "kYZsA2o-wF8T",
        "outputId": "adbc50ff-a1a7-4621-be6c-1f716ea018f4"
      },
      "execution_count": null,
      "outputs": [
        {
          "output_type": "display_data",
          "data": {
            "image/png": "[encoded data removed]",
            "text/plain": [
              "<Figure size 432x288 with 1 Axes>"
            ]
          },
          "metadata": {
            "needs_background": "light"
          }
        }
      ]
    },
    {
      "cell_type": "code",
      "execution_count": null,
      "metadata": {
        "id": "nsffs0k9M0ei"
      },
      "outputs": [],
      "source": [
        "clf = ExtraTreesClassifier(n_estimators=50, max_features=1)\n",
        "clf.fit(X_train_pca, train_y)\n",
        "\n",
        "y_pred = clf.predict(X_test_pca)\n"
      ]
    },
    {
      "cell_type": "code",
      "source": [
        "print(classification_report(test_y, le.inverse_transform(y_pred)))\n",
        "cm = confusion_matrix(test_y, le.inverse_transform(y_pred))\n",
        "plt.figure(figsize=(15,8))\n",
        "sn.heatmap(data=cm,linewidths=.5, annot=True,square = True,  cmap = 'Blues',fmt='g')\n",
        "plt.ylabel('Actual label')\n",
        "plt.xlabel('Predicted label')\n",
        "plt.show()\n",
        "\n",
        "print(accuracy_score(test_y, le.inverse_transform(y_pred)))\n",
        "print(f1_score(test_y, le.inverse_transform(y_pred), average = \"weighted\"))"
      ],
      "metadata": {
        "colab": {
          "base_uri": "https://localhost:8080/",
          "height": 870
        },
        "id": "_rlf96_BCCpN",
        "outputId": "15f7d498-e60c-4bc0-8acd-679819bab0ec"
      },
      "execution_count": null,
      "outputs": [
        {
          "output_type": "stream",
          "name": "stdout",
          "text": [
            "              precision    recall  f1-score   support\n",
            "\n",
            "          AU       0.56      0.37      0.44       125\n",
            "          CA       0.52      0.27      0.35       411\n",
            "          DE       0.46      0.22      0.30       295\n",
            "          ES       0.52      0.27      0.35       620\n",
            "          FR       0.54      0.25      0.35      1430\n",
            "          GB       0.56      0.26      0.36       642\n",
            "          IT       0.54      0.26      0.36       778\n",
            "         NDF       0.73      0.86      0.79     34772\n",
            "          NL       0.59      0.21      0.31       226\n",
            "          PT       0.64      0.26      0.37        68\n",
            "          US       0.60      0.52      0.55     17379\n",
            "       other       0.58      0.26      0.36      2781\n",
            "\n",
            "    accuracy                           0.68     59527\n",
            "   macro avg       0.57      0.33      0.41     59527\n",
            "weighted avg       0.67      0.68      0.66     59527\n",
            "\n"
          ]
        },
        {
          "output_type": "display_data",
          "data": {
            "image/png": "[encoded data removed]",
            "text/plain": [
              "<Figure size 1080x576 with 2 Axes>"
            ]
          },
          "metadata": {
            "needs_background": "light"
          }
        },
        {
          "output_type": "stream",
          "name": "stdout",
          "text": [
            "0.6837233524283098\n",
            "0.6648898382080185\n"
          ]
        }
      ]
    },
    {
      "cell_type": "code",
      "execution_count": null,
      "metadata": {
        "id": "xMTWsJEOa_s3",
        "colab": {
          "base_uri": "https://localhost:8080/"
        },
        "outputId": "b740706b-8cec-463d-e435-6a8588db154e"
      },
      "outputs": [
        {
          "output_type": "stream",
          "name": "stdout",
          "text": [
            ">12 0.558 (0.004)\n",
            ">15 0.554 (0.003)\n",
            ">50 0.507 (0.003)\n",
            ">80 0.505 (0.003)\n",
            ">100 0.505 (0.003)\n"
          ]
        }
      ],
      "source": [
        "# DECISION TREES ALGORITHM\n",
        "\n",
        "from sklearn.tree import DecisionTreeClassifier\n",
        "from sklearn.model_selection import RepeatedStratifiedKFold\n",
        "from numpy import arange\n",
        "from numpy import mean\n",
        "from numpy import std\n",
        "\n",
        "\n",
        "# get a list of models to evaluate\n",
        "def get_models():\n",
        "\tmodels = dict()\n",
        "\tfor i in [12,15,50,80,100]:\n",
        "\t\tmodels[str(i)] = DecisionTreeClassifier(max_depth=i)\n",
        "\treturn models\n",
        "\n",
        "# evaluate a give model using cross-validation\n",
        "def evaluate_model(model):\n",
        "\tcv = RepeatedStratifiedKFold(n_splits=10, n_repeats=3, random_state=1)\n",
        "\tscores = cross_val_score(model, X_train_pca,train_y, scoring='f1_weighted', cv=cv, n_jobs=-1)\n",
        "\treturn scores\n",
        "\n",
        "# get the models to evaluate\n",
        "models = get_models()\n",
        "# evaluate the models and store results\n",
        "results, names = list(), list()\n",
        "for name, model in models.items():\n",
        "\tscores = evaluate_model(model)\n",
        "\tresults.append(scores)\n",
        "\tnames.append(name)\n",
        "\tprint('>%s %.3f (%.3f)' % (name, mean(scores), std(scores)))\n",
        "\n",
        "\n",
        "# Predicting the values of test data\n",
        "# y_pred = dtree.predict(X_test_pca)"
      ]
    },
    {
      "cell_type": "code",
      "source": [
        "plt.boxplot(results, labels=names, showmeans=True)\n",
        "plt.xlabel('Max depth of decision tree')\n",
        "plt.ylabel('Classification Accuracy')\n",
        "plt.show()"
      ],
      "metadata": {
        "colab": {
          "base_uri": "https://localhost:8080/",
          "height": 279
        },
        "id": "bSO-FUrEWBKf",
        "outputId": "d598af6c-cc5e-4cd5-a2a0-fdf423422c91"
      },
      "execution_count": null,
      "outputs": [
        {
          "output_type": "display_data",
          "data": {
            "image/png": "[encoded data removed]",
            "text/plain": [
              "<Figure size 432x288 with 1 Axes>"
            ]
          },
          "metadata": {
            "needs_background": "light"
          }
        }
      ]
    },
    {
      "cell_type": "code",
      "source": [
        "from sklearn.tree import DecisionTreeClassifier\n",
        "\n",
        "criterion = ['gini', 'entropy']\n",
        "max_depth = [12]\n",
        "parameters = dict(    criterion=criterion,\n",
        "                      max_depth=max_depth)\n",
        "\n",
        "tree = DecisionTreeClassifier()\n",
        "\n",
        "model_GS = GridSearchCV(tree, parameters, scoring=\"f1_weighted\")\n",
        "model_GS.fit(X_train_pca, train_y)\n"
      ],
      "metadata": {
        "colab": {
          "base_uri": "https://localhost:8080/"
        },
        "id": "CfPOKIiiX5u1",
        "outputId": "3f134861-e9ee-485c-cdf4-270e7ff6616a"
      },
      "execution_count": null,
      "outputs": [
        {
          "output_type": "execute_result",
          "data": {
            "text/plain": [
              "GridSearchCV(estimator=DecisionTreeClassifier(),\n",
              "             param_grid={'criterion': ['gini', 'entropy'], 'max_depth': [12]},\n",
              "             scoring='f1_weighted')"
            ]
          },
          "metadata": {},
          "execution_count": 78
        }
      ]
    },
    {
      "cell_type": "code",
      "source": [
        "model_GS.best_params_"
      ],
      "metadata": {
        "colab": {
          "base_uri": "https://localhost:8080/"
        },
        "id": "Kqj7SWZvYZRK",
        "outputId": "593b57a8-2759-4d40-a9ec-97962c34ddc4"
      },
      "execution_count": null,
      "outputs": [
        {
          "output_type": "execute_result",
          "data": {
            "text/plain": [
              "{'criterion': 'entropy', 'max_depth': 12}"
            ]
          },
          "metadata": {},
          "execution_count": 82
        }
      ]
    },
    {
      "cell_type": "code",
      "source": [
        "y_pred = model_GS.predict(X_test_pca)"
      ],
      "metadata": {
        "id": "J20XZypDfjCo"
      },
      "execution_count": null,
      "outputs": []
    },
    {
      "cell_type": "code",
      "execution_count": null,
      "metadata": {
        "id": "tKemEK_Wut2U"
      },
      "outputs": [],
      "source": [
        "print(classification_report(test_y, le.inverse_transform(y_pred)))\n",
        "cm = confusion_matrix(test_y, le.inverse_transform(y_pred))\n",
        "plt.figure(figsize=(10,10))\n",
        "sn.heatmap(data=cm,linewidths=.5, annot=True,square = True,  cmap = 'Blues',fmt='g')\n",
        "plt.ylabel('Actual label')\n",
        "plt.xlabel('Predicted label')\n",
        "plt.show()\n",
        "\n",
        "print(accuracy_score(test_y, le.inverse_transform(y_pred)))\n",
        "print(f1_score(test_y, le.inverse_transform(y_pred), average = \"weighted\"))"
      ]
    },
    {
      "cell_type": "code",
      "source": [
        "# XG BOOST\n",
        "\n",
        "from xgboost import XGBClassifier\n",
        "\n",
        "\n",
        "#  get a list of models to evaluate\n",
        "def get_models():\n",
        "\tmodels = dict()\n",
        "\ttrees = [10, 50, 100]\n",
        "\tfor n in trees:\n",
        "\t\tmodels[str(n)] = XGBClassifier(n_estimators=n)\n",
        "\treturn models\n",
        " \n",
        "# evaluate a give model using cross-validation\n",
        "def evaluate_model(model):\n",
        "  cv = RepeatedStratifiedKFold(n_splits=10, n_repeats=3, random_state=1)\n",
        "  print(cv)\n",
        "  scores = cross_val_score(model, X_train_pca,train_y, scoring='f1_weighted', cv=cv, n_jobs=-1)\n",
        "  return scores\n",
        "\n",
        "# get the models to evaluate\n",
        "models = get_models()\n",
        "# evaluate the models and store results\n",
        "results, names = list(), list()\n",
        "for name, model in models.items():\n",
        "\tscores = evaluate_model(model)\n",
        "\tresults.append(scores)\n",
        "\tnames.append(name)\n",
        "\tprint('>%s %.3f (%.3f)' % (name, mean(scores), std(scores)))\n",
        "# plot model performance for comparison\n",
        "plt.boxplot(results, labels=names, showmeans=True)\n",
        "plt.show()"
      ],
      "metadata": {
        "id": "svcv3xb9yAxx"
      },
      "execution_count": null,
      "outputs": []
    },
    {
      "cell_type": "code",
      "source": [
        "plt.boxplot(results, labels=names, showmeans=True)\n",
        "plt.xlabel('N_estimators')\n",
        "plt.ylabel('Classification Accuracy')\n",
        "plt.show()"
      ],
      "metadata": {
        "colab": {
          "base_uri": "https://localhost:8080/",
          "height": 301
        },
        "id": "FWR3zC98yFGx",
        "outputId": "cfd11779-e5ce-4283-bcfd-db8e5565718a"
      },
      "execution_count": null,
      "outputs": [
        {
          "output_type": "display_data",
          "data": {
            "image/png": "[encoded data removed]",
            "text/plain": [
              "<Figure size 432x288 with 1 Axes>"
            ]
          },
          "metadata": {}
        }
      ]
    },
    {
      "cell_type": "code",
      "source": [
        "model = XGBClassifier()\n",
        "learning_rate = [0.01, 0.1, 0.3, 0.5]\n",
        "\n",
        "grid = dict(learning_rate=learning_rate, n_estimators=[10])\n",
        "cv = RepeatedStratifiedKFold(n_splits=10, n_repeats=3, random_state=1)\n",
        "grid_search = GridSearchCV(estimator=model, param_grid=grid, n_jobs=-1, cv=cv, scoring='f1_weighted',error_score=0)\n",
        "grid_result = grid_search.fit(X_train_pca,train_y )\n",
        "# summarize results\n",
        "print(\"Best: %f using %s\" % (grid_result.best_score_, grid_result.best_params_))\n",
        "means = grid_result.cv_results_['mean_test_score']\n",
        "stds = grid_result.cv_results_['std_test_score']\n",
        "params = grid_result.cv_results_['params']\n",
        "for mean, stdev, param in zip(means, stds, params):\n",
        "    print(\"%f (%f) with: %r\" % (mean, stdev, param))"
      ],
      "metadata": {
        "colab": {
          "base_uri": "https://localhost:8080/"
        },
        "id": "yDk0dRu1zFGC",
        "outputId": "47ea0ff0-3821-4565-8e18-3d1f6d11aaa7"
      },
      "execution_count": null,
      "outputs": [
        {
          "output_type": "stream",
          "name": "stdout",
          "text": [
            "Best: 0.545263 using {'learning_rate': 0.01, 'n_estimators': 10}\n",
            "0.545263 (0.003529) with: {'learning_rate': 0.01, 'n_estimators': 10}\n",
            "0.543192 (0.003081) with: {'learning_rate': 0.1, 'n_estimators': 10}\n",
            "0.537902 (0.003210) with: {'learning_rate': 0.3, 'n_estimators': 10}\n",
            "0.545226 (0.003224) with: {'learning_rate': 0.5, 'n_estimators': 10}\n"
          ]
        }
      ]
    },
    {
      "cell_type": "code",
      "source": [
        "model.get_params()"
      ],
      "metadata": {
        "id": "764RHFB7WXsl"
      },
      "execution_count": null,
      "outputs": []
    },
    {
      "cell_type": "code",
      "execution_count": null,
      "metadata": {
        "id": "lhZ4PURRwoWN"
      },
      "outputs": [],
      "source": [
        "# Predicting the values of test data\n",
        "y_pred = model.predict(X_test_pca)"
      ]
    },
    {
      "cell_type": "code",
      "execution_count": null,
      "metadata": {
        "colab": {
          "base_uri": "https://localhost:8080/",
          "height": 856
        },
        "id": "NF6lG4NKpMKC",
        "outputId": "97912efa-0db0-484c-ccf3-f18fcef09af6"
      },
      "outputs": [
        {
          "name": "stdout",
          "output_type": "stream",
          "text": [
            "              precision    recall  f1-score   support\n",
            "\n",
            "          AU       0.00      0.00      0.00       145\n",
            "          CA       0.00      0.00      0.00       386\n",
            "          DE       0.00      0.00      0.00       316\n",
            "          ES       0.00      0.00      0.00       595\n",
            "          FR       0.00      0.00      0.00      1442\n",
            "          GB       0.00      0.00      0.00       670\n",
            "          IT       0.00      0.00      0.00       777\n",
            "         NDF       0.64      0.87      0.74     34461\n",
            "          NL       0.00      0.00      0.00       220\n",
            "          PT       0.00      0.00      0.00        63\n",
            "          US       0.46      0.33      0.38     17292\n",
            "       other       0.00      0.00      0.00      2727\n",
            "\n",
            "    accuracy                           0.60     59094\n",
            "   macro avg       0.09      0.10      0.09     59094\n",
            "weighted avg       0.51      0.60      0.54     59094\n",
            "\n"
          ]
        },
        {
          "data": {
            "image/png": "[encoded data removed]",
            "text/plain": [
              "<Figure size 864x576 with 2 Axes>"
            ]
          },
          "metadata": {},
          "output_type": "display_data"
        },
        {
          "name": "stdout",
          "output_type": "stream",
          "text": [
            "0.6042068568721021\n"
          ]
        }
      ],
      "source": [
        "print(classification_report(test_y, le.inverse_transform(y_pred)))\n",
        "cm = confusion_matrix(test_y, le.inverse_transform(y_pred))\n",
        "plt.figure(figsize=(12,8))\n",
        "sn.heatmap(data=cm,linewidths=.5, annot=True,square = True,  cmap = 'Blues',fmt='g')\n",
        "plt.ylabel('Actual label')\n",
        "plt.xlabel('Predicted label')\n",
        "plt.show()\n",
        "\n",
        "print(accuracy_score(test_y, le.inverse_transform(y_pred)))"
      ]
    }
  ],
  "metadata": {
    "colab": {
      "collapsed_sections": [],
      "name": "Copy of airbnb-new-latest.ipynb",
      "provenance": []
    },
    "kernelspec": {
      "display_name": "Python 3",
      "name": "python3"
    },
    "language_info": {
      "name": "python"
    }
  },
  "nbformat": 4,
  "nbformat_minor": 0
}